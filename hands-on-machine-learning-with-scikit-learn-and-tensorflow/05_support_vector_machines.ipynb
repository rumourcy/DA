{
 "cells": [
  {
   "cell_type": "code",
   "execution_count": 1,
   "metadata": {},
   "outputs": [],
   "source": [
    "import numpy as np\n",
    "from sklearn import datasets\n",
    "from sklearn.pipeline import Pipeline\n",
    "from sklearn.preprocessing import StandardScaler\n",
    "from sklearn.svm import LinearSVC"
   ]
  },
  {
   "cell_type": "code",
   "execution_count": 2,
   "metadata": {},
   "outputs": [
    {
     "data": {
      "text/plain": [
       "array([1.])"
      ]
     },
     "execution_count": 2,
     "metadata": {},
     "output_type": "execute_result"
    }
   ],
   "source": [
    "iris = datasets.load_iris()\n",
    "X = iris['data'][:, (2, 3)]\n",
    "y = (iris['target'] == 2).astype(np.float64)\n",
    "\n",
    "svm_clf = Pipeline((\n",
    "    ('scaler', StandardScaler()),\n",
    "    ('linear_svc', LinearSVC(C=1, loss='hinge'))\n",
    "))\n",
    "\n",
    "svm_clf.fit(X, y)\n",
    "svm_clf.predict([[5.5, 1.7]])"
   ]
  },
  {
   "cell_type": "code",
   "execution_count": 3,
   "metadata": {},
   "outputs": [
    {
     "data": {
      "text/plain": [
       "Pipeline(memory=None,\n",
       "     steps=[('poly_features', PolynomialFeatures(degree=3, include_bias=True, interaction_only=False)), ('scaler', StandardScaler(copy=True, with_mean=True, with_std=True)), ('svm_clf', LinearSVC(C=10, class_weight=None, dual=True, fit_intercept=True,\n",
       "     intercept_scaling=1, loss='hinge', max_iter=1000, multi_class='ovr',\n",
       "     penalty='l2', random_state=None, tol=0.0001, verbose=0))])"
      ]
     },
     "execution_count": 3,
     "metadata": {},
     "output_type": "execute_result"
    }
   ],
   "source": [
    "from sklearn.datasets import make_moons\n",
    "from sklearn.pipeline import Pipeline\n",
    "from sklearn.preprocessing import PolynomialFeatures\n",
    "\n",
    "polynomial_svm_clf = Pipeline((\n",
    "    ('poly_features', PolynomialFeatures(degree=3)),\n",
    "    ('scaler', StandardScaler()),\n",
    "    ('svm_clf', LinearSVC(C=10, loss='hinge'))\n",
    "))\n",
    "\n",
    "polynomial_svm_clf.fit(X, y)"
   ]
  },
  {
   "cell_type": "markdown",
   "metadata": {},
   "source": [
    "#### Gaussian RBF\n",
    "RBF Radial Basis Function 径向基函数\n",
    "$$\\phi\\gamma(x,l) = exp(-\\gamma||x-l||^{2})$$"
   ]
  },
  {
   "cell_type": "markdown",
   "metadata": {},
   "source": [
    "####  Linear SVM classsifier prediction\n",
    "$$\\hat{y} = \\begin{cases}\n",
    "0 \\quad if \\quad w^T \\cdot x + b \\lt 0 \\\\\n",
    "1 \\quad if \\quad w^T \\cdot x + b \\geq 0 \n",
    "\\end{cases}$$"
   ]
  },
  {
   "cell_type": "markdown",
   "metadata": {},
   "source": [
    "两平行直线方程\n",
    "$$a_1 x_1 + b_1 x_2 + c_1 = 0 \\\\\n",
    "a_2 x_1 + b_2 x_2 + c_2 = 0$$\n",
    "点$(x_{1}^{'}, x_{2}^{'})$到直线的距离为:\n",
    "$$\\frac{|a_1 x_{1}^{'} + b_1 x_{2}^{'} + c_1|}{\\sqrt{a_{1}^{2}+b_{2}^{2}}}$$\n",
    "两平行直接之间的距离:\n",
    "$$\\frac{|c_1 - c_2|}{\\sqrt{a_{1}^{2}+b_{2}^{2}}}$$"
   ]
  },
  {
   "cell_type": "markdown",
   "metadata": {},
   "source": [
    "#### Hard margin linear SVM classifier objective\n",
    "$minimize_{w,b} \\quad \\frac{1}{2}w^T \\cdot w \\\\\n",
    "subject \\quad to \\quad t^{(i)}(w^T \\cdot x^{(i)} + b) \\geq 1 \\quad for \\quad i = 1, 2, ...,m$"
   ]
  },
  {
   "cell_type": "markdown",
   "metadata": {},
   "source": [
    "#### Soft margin linear SVM classifier objective\n",
    "slack variable $\\zeta^{(i)} \\geq 0$\n",
    "\n",
    "$\\zeta^{(i)}$measures how much the $i^{th}$ instance is allowed to violate the margin\n",
    "\n",
    "$minimize_{w,b,\\zeta} \\quad \\frac{1}{2}w^T \\cdot w + C \\sum_{i=1}^{m} \\zeta^{(i)} \\\\\n",
    "subject \\quad to \\quad t^{(i)}(w^T \\cdot x^{(i)}+b) \\geq 1 - \\zeta^{(i)} \\quad and \\quad \\zeta^{(i)} \\geq 0 \\quad for \\quad i = 1, 2, ..., m$"
   ]
  }
 ],
 "metadata": {
  "kernelspec": {
   "display_name": "Python 3",
   "language": "python",
   "name": "python3"
  },
  "language_info": {
   "codemirror_mode": {
    "name": "ipython",
    "version": 3
   },
   "file_extension": ".py",
   "mimetype": "text/x-python",
   "name": "python",
   "nbconvert_exporter": "python",
   "pygments_lexer": "ipython3",
   "version": "3.5.6"
  }
 },
 "nbformat": 4,
 "nbformat_minor": 2
}
