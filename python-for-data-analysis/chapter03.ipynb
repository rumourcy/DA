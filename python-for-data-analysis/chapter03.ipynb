{
 "cells": [
  {
   "cell_type": "code",
   "execution_count": 1,
   "metadata": {},
   "outputs": [],
   "source": [
    "tup = 4, 5, 6"
   ]
  },
  {
   "cell_type": "code",
   "execution_count": 2,
   "metadata": {},
   "outputs": [
    {
     "data": {
      "text/plain": [
       "(4, 5, 6)"
      ]
     },
     "execution_count": 2,
     "metadata": {},
     "output_type": "execute_result"
    }
   ],
   "source": [
    "tup"
   ]
  },
  {
   "cell_type": "code",
   "execution_count": 3,
   "metadata": {},
   "outputs": [
    {
     "data": {
      "text/plain": [
       "tuple"
      ]
     },
     "execution_count": 3,
     "metadata": {},
     "output_type": "execute_result"
    }
   ],
   "source": [
    "type(tup)"
   ]
  },
  {
   "cell_type": "code",
   "execution_count": 4,
   "metadata": {},
   "outputs": [],
   "source": [
    "nested_tup = (4, 5, 6), [5, 6]"
   ]
  },
  {
   "cell_type": "code",
   "execution_count": 5,
   "metadata": {},
   "outputs": [
    {
     "data": {
      "text/plain": [
       "((4, 5, 6), [5, 6])"
      ]
     },
     "execution_count": 5,
     "metadata": {},
     "output_type": "execute_result"
    }
   ],
   "source": [
    "nested_tup"
   ]
  },
  {
   "cell_type": "code",
   "execution_count": 6,
   "metadata": {},
   "outputs": [],
   "source": [
    "tup4 = tup * 4"
   ]
  },
  {
   "cell_type": "code",
   "execution_count": 7,
   "metadata": {},
   "outputs": [
    {
     "data": {
      "text/plain": [
       "(4, 5, 6, 4, 5, 6, 4, 5, 6, 4, 5, 6)"
      ]
     },
     "execution_count": 7,
     "metadata": {},
     "output_type": "execute_result"
    }
   ],
   "source": [
    "tup4"
   ]
  },
  {
   "cell_type": "code",
   "execution_count": 8,
   "metadata": {},
   "outputs": [],
   "source": [
    "a, b, c = tup"
   ]
  },
  {
   "cell_type": "code",
   "execution_count": 9,
   "metadata": {},
   "outputs": [
    {
     "data": {
      "text/plain": [
       "6"
      ]
     },
     "execution_count": 9,
     "metadata": {},
     "output_type": "execute_result"
    }
   ],
   "source": [
    "c"
   ]
  },
  {
   "cell_type": "code",
   "execution_count": 10,
   "metadata": {},
   "outputs": [],
   "source": [
    "a, b, *rest = tup4"
   ]
  },
  {
   "cell_type": "code",
   "execution_count": 11,
   "metadata": {},
   "outputs": [
    {
     "data": {
      "text/plain": [
       "4"
      ]
     },
     "execution_count": 11,
     "metadata": {},
     "output_type": "execute_result"
    }
   ],
   "source": [
    "a"
   ]
  },
  {
   "cell_type": "code",
   "execution_count": 12,
   "metadata": {},
   "outputs": [
    {
     "data": {
      "text/plain": [
       "[6, 4, 5, 6, 4, 5, 6, 4, 5, 6]"
      ]
     },
     "execution_count": 12,
     "metadata": {},
     "output_type": "execute_result"
    }
   ],
   "source": [
    "rest"
   ]
  },
  {
   "cell_type": "code",
   "execution_count": 13,
   "metadata": {},
   "outputs": [],
   "source": [
    "b = ['falcon', 'coyote', 'trierbo']"
   ]
  },
  {
   "cell_type": "code",
   "execution_count": 14,
   "metadata": {},
   "outputs": [],
   "source": [
    "b.sort()"
   ]
  },
  {
   "cell_type": "code",
   "execution_count": 15,
   "metadata": {},
   "outputs": [
    {
     "data": {
      "text/plain": [
       "['coyote', 'falcon', 'trierbo']"
      ]
     },
     "execution_count": 15,
     "metadata": {},
     "output_type": "execute_result"
    }
   ],
   "source": [
    "b"
   ]
  },
  {
   "cell_type": "code",
   "execution_count": 16,
   "metadata": {},
   "outputs": [],
   "source": [
    "b.sort(key=len)"
   ]
  },
  {
   "cell_type": "code",
   "execution_count": 17,
   "metadata": {},
   "outputs": [
    {
     "data": {
      "text/plain": [
       "['coyote', 'falcon', 'trierbo']"
      ]
     },
     "execution_count": 17,
     "metadata": {},
     "output_type": "execute_result"
    }
   ],
   "source": [
    "b"
   ]
  },
  {
   "cell_type": "code",
   "execution_count": 18,
   "metadata": {},
   "outputs": [],
   "source": [
    "import bisect"
   ]
  },
  {
   "cell_type": "code",
   "execution_count": 19,
   "metadata": {},
   "outputs": [],
   "source": [
    "c = [1, 2, 2, 2, 3, 4, 7]"
   ]
  },
  {
   "cell_type": "code",
   "execution_count": 20,
   "metadata": {},
   "outputs": [
    {
     "data": {
      "text/plain": [
       "4"
      ]
     },
     "execution_count": 20,
     "metadata": {},
     "output_type": "execute_result"
    }
   ],
   "source": [
    "bisect.bisect(c, 2)"
   ]
  },
  {
   "cell_type": "code",
   "execution_count": 21,
   "metadata": {},
   "outputs": [
    {
     "data": {
      "text/plain": [
       "1"
      ]
     },
     "execution_count": 21,
     "metadata": {},
     "output_type": "execute_result"
    }
   ],
   "source": [
    "bisect.bisect_left(c, 2)"
   ]
  },
  {
   "cell_type": "code",
   "execution_count": 22,
   "metadata": {},
   "outputs": [],
   "source": [
    "bisect.insort(c, 2)"
   ]
  },
  {
   "cell_type": "code",
   "execution_count": 23,
   "metadata": {},
   "outputs": [
    {
     "data": {
      "text/plain": [
       "[1, 2, 2, 2, 2, 3, 4, 7]"
      ]
     },
     "execution_count": 23,
     "metadata": {},
     "output_type": "execute_result"
    }
   ],
   "source": [
    "c"
   ]
  },
  {
   "cell_type": "code",
   "execution_count": 24,
   "metadata": {},
   "outputs": [
    {
     "name": "stdout",
     "output_type": "stream",
     "text": [
      "[7, 2, 3, 7, 5, 6, 0, 1]\n",
      "[7, 2, 3, 6, 3, 6, 0, 1]\n"
     ]
    }
   ],
   "source": [
    "seq = [7, 2, 3, 7, 5, 6, 0, 1]\n",
    "print(seq)\n",
    "seq[3:5] = [6, 3]\n",
    "print(seq)"
   ]
  },
  {
   "cell_type": "code",
   "execution_count": 25,
   "metadata": {},
   "outputs": [
    {
     "data": {
      "text/plain": [
       "[2, 3, 6, 3]"
      ]
     },
     "execution_count": 25,
     "metadata": {},
     "output_type": "execute_result"
    }
   ],
   "source": [
    "seq[1:5]"
   ]
  },
  {
   "cell_type": "code",
   "execution_count": 26,
   "metadata": {},
   "outputs": [],
   "source": [
    "seq[3:4] = [6, 3]"
   ]
  },
  {
   "cell_type": "code",
   "execution_count": 27,
   "metadata": {},
   "outputs": [
    {
     "data": {
      "text/plain": [
       "[7, 2, 3, 6, 3, 3, 6, 0, 1]"
      ]
     },
     "execution_count": 27,
     "metadata": {},
     "output_type": "execute_result"
    }
   ],
   "source": [
    "seq"
   ]
  },
  {
   "cell_type": "code",
   "execution_count": 28,
   "metadata": {},
   "outputs": [
    {
     "data": {
      "text/plain": [
       "[7, 3, 3, 6, 1]"
      ]
     },
     "execution_count": 28,
     "metadata": {},
     "output_type": "execute_result"
    }
   ],
   "source": [
    "seq[::2]"
   ]
  },
  {
   "cell_type": "code",
   "execution_count": 29,
   "metadata": {},
   "outputs": [
    {
     "data": {
      "text/plain": [
       "[1, 0, 6, 3, 3, 6, 3, 2, 7]"
      ]
     },
     "execution_count": 29,
     "metadata": {},
     "output_type": "execute_result"
    }
   ],
   "source": [
    "seq[::-1]"
   ]
  },
  {
   "cell_type": "code",
   "execution_count": 30,
   "metadata": {},
   "outputs": [
    {
     "data": {
      "text/plain": [
       "[1, 6, 3, 3, 7]"
      ]
     },
     "execution_count": 30,
     "metadata": {},
     "output_type": "execute_result"
    }
   ],
   "source": [
    "seq[::-2]"
   ]
  },
  {
   "cell_type": "code",
   "execution_count": 31,
   "metadata": {},
   "outputs": [],
   "source": [
    "some_list = ['foo', 'bar', 'baz']\n",
    "mapping = {}"
   ]
  },
  {
   "cell_type": "code",
   "execution_count": 32,
   "metadata": {},
   "outputs": [],
   "source": [
    "for i, v in enumerate(some_list):\n",
    "    mapping[v] = i"
   ]
  },
  {
   "cell_type": "code",
   "execution_count": 33,
   "metadata": {},
   "outputs": [
    {
     "data": {
      "text/plain": [
       "{'foo': 0, 'bar': 1, 'baz': 2}"
      ]
     },
     "execution_count": 33,
     "metadata": {},
     "output_type": "execute_result"
    }
   ],
   "source": [
    "mapping"
   ]
  },
  {
   "cell_type": "code",
   "execution_count": 34,
   "metadata": {},
   "outputs": [
    {
     "data": {
      "text/plain": [
       "[0, 1, 2, 2, 3, 6, 7]"
      ]
     },
     "execution_count": 34,
     "metadata": {},
     "output_type": "execute_result"
    }
   ],
   "source": [
    "sorted([7, 1, 2, 6, 0, 3, 2])"
   ]
  },
  {
   "cell_type": "code",
   "execution_count": 35,
   "metadata": {},
   "outputs": [
    {
     "data": {
      "text/plain": [
       "[' ', 'a', 'c', 'e', 'e', 'h', 'o', 'r', 'r', 's']"
      ]
     },
     "execution_count": 35,
     "metadata": {},
     "output_type": "execute_result"
    }
   ],
   "source": [
    "sorted('horse race')"
   ]
  },
  {
   "cell_type": "code",
   "execution_count": 36,
   "metadata": {},
   "outputs": [],
   "source": [
    "b = ['falcon', 'coyote', 'trierbo']"
   ]
  },
  {
   "cell_type": "code",
   "execution_count": 37,
   "metadata": {},
   "outputs": [
    {
     "data": {
      "text/plain": [
       "['falcon', 'coyote', 'trierbo']"
      ]
     },
     "execution_count": 37,
     "metadata": {},
     "output_type": "execute_result"
    }
   ],
   "source": [
    "sorted(b, key=len)"
   ]
  },
  {
   "cell_type": "code",
   "execution_count": 38,
   "metadata": {},
   "outputs": [],
   "source": [
    "seq1 = ['foo', 'bar', 'baz']\n",
    "seq2 = ['one', 'two', 'three']"
   ]
  },
  {
   "cell_type": "code",
   "execution_count": 39,
   "metadata": {},
   "outputs": [],
   "source": [
    "zipped = zip(seq1, seq2)"
   ]
  },
  {
   "cell_type": "code",
   "execution_count": 40,
   "metadata": {},
   "outputs": [
    {
     "data": {
      "text/plain": [
       "<zip at 0x7f4b9820fdc8>"
      ]
     },
     "execution_count": 40,
     "metadata": {},
     "output_type": "execute_result"
    }
   ],
   "source": [
    "zipped"
   ]
  },
  {
   "cell_type": "code",
   "execution_count": 41,
   "metadata": {},
   "outputs": [
    {
     "name": "stdout",
     "output_type": "stream",
     "text": [
      "('foo', 'one')\n",
      "('bar', 'two')\n",
      "('baz', 'three')\n"
     ]
    }
   ],
   "source": [
    "for tup in zipped:\n",
    "    print(tup)"
   ]
  },
  {
   "cell_type": "code",
   "execution_count": 42,
   "metadata": {},
   "outputs": [
    {
     "data": {
      "text/plain": [
       "[]"
      ]
     },
     "execution_count": 42,
     "metadata": {},
     "output_type": "execute_result"
    }
   ],
   "source": [
    "list(zipped)"
   ]
  },
  {
   "cell_type": "code",
   "execution_count": 43,
   "metadata": {},
   "outputs": [
    {
     "data": {
      "text/plain": [
       "[('foo', 'one', False), ('bar', 'two', True)]"
      ]
     },
     "execution_count": 43,
     "metadata": {},
     "output_type": "execute_result"
    }
   ],
   "source": [
    "seq3 = [False, True]\n",
    "list(zip(seq1, seq2, seq3))"
   ]
  },
  {
   "cell_type": "code",
   "execution_count": 44,
   "metadata": {},
   "outputs": [
    {
     "name": "stdout",
     "output_type": "stream",
     "text": [
      "0: foo, one\n",
      "1: bar, two\n",
      "2: baz, three\n"
     ]
    }
   ],
   "source": [
    "for i, (a, b) in enumerate(zip(seq1, seq2)):\n",
    "    print('{0}: {1}, {2}'.format(i, a, b))"
   ]
  },
  {
   "cell_type": "code",
   "execution_count": 45,
   "metadata": {},
   "outputs": [],
   "source": [
    "pitchers = [('Nolan', 'Ryan'), ('Roger', 'Clemens'), ('Schilling', 'Curt')]"
   ]
  },
  {
   "cell_type": "code",
   "execution_count": 46,
   "metadata": {},
   "outputs": [],
   "source": [
    "first_names, last_names = zip(*pitchers)"
   ]
  },
  {
   "cell_type": "code",
   "execution_count": 47,
   "metadata": {},
   "outputs": [
    {
     "data": {
      "text/plain": [
       "('Nolan', 'Roger', 'Schilling')"
      ]
     },
     "execution_count": 47,
     "metadata": {},
     "output_type": "execute_result"
    }
   ],
   "source": [
    "first_names"
   ]
  },
  {
   "cell_type": "code",
   "execution_count": 48,
   "metadata": {},
   "outputs": [
    {
     "data": {
      "text/plain": [
       "('Ryan', 'Clemens', 'Curt')"
      ]
     },
     "execution_count": 48,
     "metadata": {},
     "output_type": "execute_result"
    }
   ],
   "source": [
    "last_names"
   ]
  },
  {
   "cell_type": "code",
   "execution_count": 49,
   "metadata": {},
   "outputs": [
    {
     "data": {
      "text/plain": [
       "[9, 8, 7, 6, 5, 4, 3, 2, 1, 0]"
      ]
     },
     "execution_count": 49,
     "metadata": {},
     "output_type": "execute_result"
    }
   ],
   "source": [
    "list(reversed(range(10)))"
   ]
  },
  {
   "cell_type": "code",
   "execution_count": 50,
   "metadata": {},
   "outputs": [],
   "source": [
    "empty_dict = {}"
   ]
  },
  {
   "cell_type": "code",
   "execution_count": 51,
   "metadata": {},
   "outputs": [],
   "source": [
    "d1 = {'a': 'some value', 'b': [1, 2, 3, 4]}"
   ]
  },
  {
   "cell_type": "code",
   "execution_count": 52,
   "metadata": {},
   "outputs": [
    {
     "data": {
      "text/plain": [
       "{'a': 'some value', 'b': [1, 2, 3, 4]}"
      ]
     },
     "execution_count": 52,
     "metadata": {},
     "output_type": "execute_result"
    }
   ],
   "source": [
    "d1"
   ]
  },
  {
   "cell_type": "code",
   "execution_count": 53,
   "metadata": {},
   "outputs": [
    {
     "data": {
      "text/plain": [
       "True"
      ]
     },
     "execution_count": 53,
     "metadata": {},
     "output_type": "execute_result"
    }
   ],
   "source": [
    "'b' in d1"
   ]
  },
  {
   "cell_type": "code",
   "execution_count": 54,
   "metadata": {},
   "outputs": [],
   "source": [
    "d1[5] = 'some value'"
   ]
  },
  {
   "cell_type": "code",
   "execution_count": 55,
   "metadata": {},
   "outputs": [
    {
     "data": {
      "text/plain": [
       "{'a': 'some value', 'b': [1, 2, 3, 4], 5: 'some value'}"
      ]
     },
     "execution_count": 55,
     "metadata": {},
     "output_type": "execute_result"
    }
   ],
   "source": [
    "d1"
   ]
  },
  {
   "cell_type": "code",
   "execution_count": 56,
   "metadata": {},
   "outputs": [],
   "source": [
    "d1['dummy'] = 'another value'"
   ]
  },
  {
   "cell_type": "code",
   "execution_count": 57,
   "metadata": {},
   "outputs": [],
   "source": [
    "del d1[5]"
   ]
  },
  {
   "cell_type": "code",
   "execution_count": 58,
   "metadata": {},
   "outputs": [
    {
     "data": {
      "text/plain": [
       "{'a': 'some value', 'b': [1, 2, 3, 4], 'dummy': 'another value'}"
      ]
     },
     "execution_count": 58,
     "metadata": {},
     "output_type": "execute_result"
    }
   ],
   "source": [
    "d1"
   ]
  },
  {
   "cell_type": "code",
   "execution_count": 59,
   "metadata": {},
   "outputs": [
    {
     "data": {
      "text/plain": [
       "'another value'"
      ]
     },
     "execution_count": 59,
     "metadata": {},
     "output_type": "execute_result"
    }
   ],
   "source": [
    "d1.pop('dummy')"
   ]
  },
  {
   "cell_type": "code",
   "execution_count": 60,
   "metadata": {},
   "outputs": [
    {
     "data": {
      "text/plain": [
       "{'a': 'some value', 'b': [1, 2, 3, 4]}"
      ]
     },
     "execution_count": 60,
     "metadata": {},
     "output_type": "execute_result"
    }
   ],
   "source": [
    "d1"
   ]
  },
  {
   "cell_type": "code",
   "execution_count": 61,
   "metadata": {},
   "outputs": [
    {
     "data": {
      "text/plain": [
       "['a', 'b']"
      ]
     },
     "execution_count": 61,
     "metadata": {},
     "output_type": "execute_result"
    }
   ],
   "source": [
    "list(d1.keys())"
   ]
  },
  {
   "cell_type": "code",
   "execution_count": 62,
   "metadata": {},
   "outputs": [
    {
     "data": {
      "text/plain": [
       "['some value', [1, 2, 3, 4]]"
      ]
     },
     "execution_count": 62,
     "metadata": {},
     "output_type": "execute_result"
    }
   ],
   "source": [
    "list(d1.values())"
   ]
  },
  {
   "cell_type": "code",
   "execution_count": 63,
   "metadata": {},
   "outputs": [],
   "source": [
    "d1.update({'b': 'foo', 'c': 12})"
   ]
  },
  {
   "cell_type": "code",
   "execution_count": 64,
   "metadata": {},
   "outputs": [
    {
     "data": {
      "text/plain": [
       "{'a': 'some value', 'b': 'foo', 'c': 12}"
      ]
     },
     "execution_count": 64,
     "metadata": {},
     "output_type": "execute_result"
    }
   ],
   "source": [
    "d1"
   ]
  },
  {
   "cell_type": "code",
   "execution_count": 65,
   "metadata": {},
   "outputs": [],
   "source": [
    "mapping = dict(zip(range(5), reversed(range(5))))"
   ]
  },
  {
   "cell_type": "code",
   "execution_count": 66,
   "metadata": {},
   "outputs": [
    {
     "data": {
      "text/plain": [
       "{0: 4, 1: 3, 2: 2, 3: 1, 4: 0}"
      ]
     },
     "execution_count": 66,
     "metadata": {},
     "output_type": "execute_result"
    }
   ],
   "source": [
    "mapping"
   ]
  },
  {
   "cell_type": "code",
   "execution_count": 67,
   "metadata": {},
   "outputs": [],
   "source": [
    "words = ['apple', 'bat', 'bar', 'atom', 'book']"
   ]
  },
  {
   "cell_type": "code",
   "execution_count": 68,
   "metadata": {},
   "outputs": [],
   "source": [
    "by_letter = {}"
   ]
  },
  {
   "cell_type": "code",
   "execution_count": 69,
   "metadata": {},
   "outputs": [],
   "source": [
    "for word in words:\n",
    "    letter = word[0]\n",
    "    if letter not in by_letter:\n",
    "        by_letter[letter] = [word]\n",
    "    else:\n",
    "        by_letter[letter].append(word)"
   ]
  },
  {
   "cell_type": "code",
   "execution_count": 70,
   "metadata": {},
   "outputs": [
    {
     "data": {
      "text/plain": [
       "{'a': ['apple', 'atom'], 'b': ['bat', 'bar', 'book']}"
      ]
     },
     "execution_count": 70,
     "metadata": {},
     "output_type": "execute_result"
    }
   ],
   "source": [
    "by_letter"
   ]
  },
  {
   "cell_type": "code",
   "execution_count": 71,
   "metadata": {},
   "outputs": [],
   "source": [
    "from collections import defaultdict\n",
    "by_letter = defaultdict(list)\n",
    "for word in words:\n",
    "    by_letter[word[0]].append(word)"
   ]
  },
  {
   "cell_type": "code",
   "execution_count": 72,
   "metadata": {},
   "outputs": [
    {
     "data": {
      "text/plain": [
       "{'a': ['apple', 'atom'], 'b': ['bat', 'bar', 'book']}"
      ]
     },
     "execution_count": 72,
     "metadata": {},
     "output_type": "execute_result"
    }
   ],
   "source": [
    "dict(by_letter)"
   ]
  },
  {
   "cell_type": "code",
   "execution_count": 73,
   "metadata": {},
   "outputs": [
    {
     "data": {
      "text/plain": [
       "-4869766874815535150"
      ]
     },
     "execution_count": 73,
     "metadata": {},
     "output_type": "execute_result"
    }
   ],
   "source": [
    "hash('string')"
   ]
  },
  {
   "cell_type": "code",
   "execution_count": 74,
   "metadata": {},
   "outputs": [
    {
     "data": {
      "text/plain": [
       "{2, 3, 4, 5, 6}"
      ]
     },
     "execution_count": 74,
     "metadata": {},
     "output_type": "execute_result"
    }
   ],
   "source": [
    "set([2, 2, 3, 4, 5, 5, 6, 6])"
   ]
  },
  {
   "cell_type": "code",
   "execution_count": 75,
   "metadata": {},
   "outputs": [
    {
     "data": {
      "text/plain": [
       "{1, 2, 3, 4}"
      ]
     },
     "execution_count": 75,
     "metadata": {},
     "output_type": "execute_result"
    }
   ],
   "source": [
    "{1, 1, 2, 3, 4, 4}"
   ]
  },
  {
   "cell_type": "code",
   "execution_count": 76,
   "metadata": {},
   "outputs": [],
   "source": [
    "a = {1, 2, 3, 4, 5}\n",
    "b = {3, 4, 5, 6, 7, 8}"
   ]
  },
  {
   "cell_type": "code",
   "execution_count": 77,
   "metadata": {},
   "outputs": [
    {
     "data": {
      "text/plain": [
       "{1, 2, 3, 4, 5, 6, 7, 8}"
      ]
     },
     "execution_count": 77,
     "metadata": {},
     "output_type": "execute_result"
    }
   ],
   "source": [
    "a.union(b)"
   ]
  },
  {
   "cell_type": "code",
   "execution_count": 78,
   "metadata": {},
   "outputs": [
    {
     "data": {
      "text/plain": [
       "{1, 2, 3, 4, 5, 6, 7, 8}"
      ]
     },
     "execution_count": 78,
     "metadata": {},
     "output_type": "execute_result"
    }
   ],
   "source": [
    "a | b"
   ]
  },
  {
   "cell_type": "code",
   "execution_count": 79,
   "metadata": {},
   "outputs": [
    {
     "data": {
      "text/plain": [
       "{3, 4, 5}"
      ]
     },
     "execution_count": 79,
     "metadata": {},
     "output_type": "execute_result"
    }
   ],
   "source": [
    "a.intersection(b)"
   ]
  },
  {
   "cell_type": "code",
   "execution_count": 80,
   "metadata": {},
   "outputs": [
    {
     "data": {
      "text/plain": [
       "{3, 4, 5}"
      ]
     },
     "execution_count": 80,
     "metadata": {},
     "output_type": "execute_result"
    }
   ],
   "source": [
    "a & b"
   ]
  },
  {
   "cell_type": "code",
   "execution_count": 81,
   "metadata": {},
   "outputs": [
    {
     "data": {
      "text/plain": [
       "{1, 2, 3, 4, 5}"
      ]
     },
     "execution_count": 81,
     "metadata": {},
     "output_type": "execute_result"
    }
   ],
   "source": [
    "a"
   ]
  },
  {
   "cell_type": "code",
   "execution_count": 82,
   "metadata": {},
   "outputs": [],
   "source": [
    "a.add(6)"
   ]
  },
  {
   "cell_type": "code",
   "execution_count": 83,
   "metadata": {},
   "outputs": [
    {
     "data": {
      "text/plain": [
       "{1, 2, 3, 4, 5, 6}"
      ]
     },
     "execution_count": 83,
     "metadata": {},
     "output_type": "execute_result"
    }
   ],
   "source": [
    "a"
   ]
  },
  {
   "cell_type": "code",
   "execution_count": 84,
   "metadata": {},
   "outputs": [],
   "source": [
    "a.clear()"
   ]
  },
  {
   "cell_type": "code",
   "execution_count": 85,
   "metadata": {},
   "outputs": [
    {
     "data": {
      "text/plain": [
       "set()"
      ]
     },
     "execution_count": 85,
     "metadata": {},
     "output_type": "execute_result"
    }
   ],
   "source": [
    "a"
   ]
  },
  {
   "cell_type": "code",
   "execution_count": 86,
   "metadata": {},
   "outputs": [],
   "source": [
    "a.add(1)"
   ]
  },
  {
   "cell_type": "code",
   "execution_count": 87,
   "metadata": {},
   "outputs": [
    {
     "data": {
      "text/plain": [
       "{3, 4, 5, 6, 7, 8}"
      ]
     },
     "execution_count": 87,
     "metadata": {},
     "output_type": "execute_result"
    }
   ],
   "source": [
    "b"
   ]
  },
  {
   "cell_type": "code",
   "execution_count": 88,
   "metadata": {},
   "outputs": [
    {
     "data": {
      "text/plain": [
       "3"
      ]
     },
     "execution_count": 88,
     "metadata": {},
     "output_type": "execute_result"
    }
   ],
   "source": [
    "b.pop()"
   ]
  },
  {
   "cell_type": "code",
   "execution_count": 89,
   "metadata": {},
   "outputs": [
    {
     "data": {
      "text/plain": [
       "{4, 5, 6, 7, 8}"
      ]
     },
     "execution_count": 89,
     "metadata": {},
     "output_type": "execute_result"
    }
   ],
   "source": [
    "b"
   ]
  },
  {
   "cell_type": "code",
   "execution_count": 90,
   "metadata": {},
   "outputs": [
    {
     "data": {
      "text/plain": [
       "4"
      ]
     },
     "execution_count": 90,
     "metadata": {},
     "output_type": "execute_result"
    }
   ],
   "source": [
    "b.pop()"
   ]
  },
  {
   "cell_type": "code",
   "execution_count": 91,
   "metadata": {},
   "outputs": [],
   "source": [
    "strings = ['a', 'as', 'bat', 'car', 'dove', 'python']"
   ]
  },
  {
   "cell_type": "code",
   "execution_count": 92,
   "metadata": {},
   "outputs": [
    {
     "data": {
      "text/plain": [
       "['BAT', 'CAR', 'DOVE', 'PYTHON']"
      ]
     },
     "execution_count": 92,
     "metadata": {},
     "output_type": "execute_result"
    }
   ],
   "source": [
    "[x.upper() for x in strings if len(x) > 2]"
   ]
  },
  {
   "cell_type": "code",
   "execution_count": 93,
   "metadata": {},
   "outputs": [],
   "source": [
    "unique_lengths = {len(x) for x in strings}"
   ]
  },
  {
   "cell_type": "code",
   "execution_count": 94,
   "metadata": {},
   "outputs": [
    {
     "data": {
      "text/plain": [
       "{1, 2, 3, 4, 6}"
      ]
     },
     "execution_count": 94,
     "metadata": {},
     "output_type": "execute_result"
    }
   ],
   "source": [
    "unique_lengths"
   ]
  },
  {
   "cell_type": "code",
   "execution_count": 95,
   "metadata": {},
   "outputs": [
    {
     "data": {
      "text/plain": [
       "[1, 2, 3, 3, 4, 6]"
      ]
     },
     "execution_count": 95,
     "metadata": {},
     "output_type": "execute_result"
    }
   ],
   "source": [
    "list(map(len, strings))"
   ]
  },
  {
   "cell_type": "code",
   "execution_count": 96,
   "metadata": {},
   "outputs": [
    {
     "data": {
      "text/plain": [
       "{1, 2, 3, 4, 6}"
      ]
     },
     "execution_count": 96,
     "metadata": {},
     "output_type": "execute_result"
    }
   ],
   "source": [
    "set(map(len, strings))"
   ]
  },
  {
   "cell_type": "code",
   "execution_count": 97,
   "metadata": {},
   "outputs": [],
   "source": [
    "loc_mapping = {val : index for index, val in enumerate(strings)}"
   ]
  },
  {
   "cell_type": "code",
   "execution_count": 98,
   "metadata": {},
   "outputs": [
    {
     "data": {
      "text/plain": [
       "{'a': 0, 'as': 1, 'bat': 2, 'car': 3, 'dove': 4, 'python': 5}"
      ]
     },
     "execution_count": 98,
     "metadata": {},
     "output_type": "execute_result"
    }
   ],
   "source": [
    "loc_mapping"
   ]
  },
  {
   "cell_type": "code",
   "execution_count": 99,
   "metadata": {},
   "outputs": [],
   "source": [
    "all_data = [['John', 'Emily', 'Michael', 'Mary', 'Steven'],\n",
    "           ['Maria', 'Juan', 'Javier', 'Natalia', 'Pilar']]"
   ]
  },
  {
   "cell_type": "code",
   "execution_count": 100,
   "metadata": {},
   "outputs": [],
   "source": [
    "names_of_interest = []\n",
    "for names in all_data:\n",
    "    enough_es = [name for name in names if name.count('e') >= 2]\n",
    "    names_of_interest.extend(enough_es)"
   ]
  },
  {
   "cell_type": "code",
   "execution_count": 101,
   "metadata": {},
   "outputs": [
    {
     "data": {
      "text/plain": [
       "['Steven']"
      ]
     },
     "execution_count": 101,
     "metadata": {},
     "output_type": "execute_result"
    }
   ],
   "source": [
    "names_of_interest"
   ]
  },
  {
   "cell_type": "code",
   "execution_count": 102,
   "metadata": {},
   "outputs": [],
   "source": [
    "result = [name for names in all_data for name in names if name.count('e') >= 2]"
   ]
  },
  {
   "cell_type": "code",
   "execution_count": 103,
   "metadata": {},
   "outputs": [
    {
     "data": {
      "text/plain": [
       "['Steven']"
      ]
     },
     "execution_count": 103,
     "metadata": {},
     "output_type": "execute_result"
    }
   ],
   "source": [
    "result"
   ]
  },
  {
   "cell_type": "code",
   "execution_count": 104,
   "metadata": {},
   "outputs": [],
   "source": [
    "result = [[name for name in names if name.count('e') >= 2] for names in all_data]"
   ]
  },
  {
   "cell_type": "code",
   "execution_count": 105,
   "metadata": {},
   "outputs": [
    {
     "data": {
      "text/plain": [
       "[['Steven'], []]"
      ]
     },
     "execution_count": 105,
     "metadata": {},
     "output_type": "execute_result"
    }
   ],
   "source": [
    "result"
   ]
  },
  {
   "cell_type": "code",
   "execution_count": 106,
   "metadata": {},
   "outputs": [],
   "source": [
    "def my_function(x, y, z=1.5):\n",
    "    if z > 1:\n",
    "        return z * (x + y)\n",
    "    else:\n",
    "        return z / (x + y)"
   ]
  },
  {
   "cell_type": "code",
   "execution_count": 107,
   "metadata": {},
   "outputs": [
    {
     "data": {
      "text/plain": [
       "33.5"
      ]
     },
     "execution_count": 107,
     "metadata": {},
     "output_type": "execute_result"
    }
   ],
   "source": [
    "my_function(z = 5, y = 6, x = 0.7)"
   ]
  },
  {
   "cell_type": "code",
   "execution_count": 108,
   "metadata": {},
   "outputs": [],
   "source": [
    "a = []\n",
    "def func():\n",
    "    for i in range(5):\n",
    "        a.append(i)"
   ]
  },
  {
   "cell_type": "code",
   "execution_count": 109,
   "metadata": {},
   "outputs": [
    {
     "data": {
      "text/plain": [
       "[0, 1, 2, 3, 4]"
      ]
     },
     "execution_count": 109,
     "metadata": {},
     "output_type": "execute_result"
    }
   ],
   "source": [
    "func()\n",
    "a"
   ]
  },
  {
   "cell_type": "code",
   "execution_count": 110,
   "metadata": {},
   "outputs": [],
   "source": [
    "a = None\n",
    "\n",
    "def bind_a_variable():\n",
    "    global a\n",
    "    a = []\n",
    "    \n",
    "bind_a_variable()"
   ]
  },
  {
   "cell_type": "code",
   "execution_count": 111,
   "metadata": {},
   "outputs": [
    {
     "data": {
      "text/plain": [
       "[]"
      ]
     },
     "execution_count": 111,
     "metadata": {},
     "output_type": "execute_result"
    }
   ],
   "source": [
    "a"
   ]
  },
  {
   "cell_type": "code",
   "execution_count": 112,
   "metadata": {},
   "outputs": [],
   "source": [
    "def f():\n",
    "    a = 5\n",
    "    b = 6\n",
    "    c = 7\n",
    "    return a, b, c"
   ]
  },
  {
   "cell_type": "code",
   "execution_count": 113,
   "metadata": {},
   "outputs": [],
   "source": [
    "tup = f()"
   ]
  },
  {
   "cell_type": "code",
   "execution_count": 114,
   "metadata": {},
   "outputs": [
    {
     "data": {
      "text/plain": [
       "(5, 6, 7)"
      ]
     },
     "execution_count": 114,
     "metadata": {},
     "output_type": "execute_result"
    }
   ],
   "source": [
    "tup"
   ]
  },
  {
   "cell_type": "code",
   "execution_count": 115,
   "metadata": {},
   "outputs": [],
   "source": [
    "a, b, c = tup"
   ]
  },
  {
   "cell_type": "code",
   "execution_count": 116,
   "metadata": {},
   "outputs": [
    {
     "name": "stdout",
     "output_type": "stream",
     "text": [
      "5 6 7\n"
     ]
    }
   ],
   "source": [
    "print(a, b, c)"
   ]
  },
  {
   "cell_type": "code",
   "execution_count": 117,
   "metadata": {},
   "outputs": [],
   "source": [
    "def f():\n",
    "    a = 5\n",
    "    b = 6\n",
    "    c = 7\n",
    "    return {'a' : a, 'b' : b, 'c' : c}"
   ]
  },
  {
   "cell_type": "code",
   "execution_count": 118,
   "metadata": {},
   "outputs": [
    {
     "data": {
      "text/plain": [
       "{'a': 5, 'b': 6, 'c': 7}"
      ]
     },
     "execution_count": 118,
     "metadata": {},
     "output_type": "execute_result"
    }
   ],
   "source": [
    "f()"
   ]
  },
  {
   "cell_type": "code",
   "execution_count": 119,
   "metadata": {},
   "outputs": [],
   "source": [
    "states = ['   Alabama ', 'Georgia!', 'Georgia', 'georgia', 'FlOrIda', 'south carolina##', 'West virginia?']"
   ]
  },
  {
   "cell_type": "code",
   "execution_count": 120,
   "metadata": {},
   "outputs": [],
   "source": [
    "import re\n",
    "\n",
    "def clean_strings(strings):\n",
    "    result = []\n",
    "    for value in strings:\n",
    "        value = value.strip()\n",
    "        value = re.sub('[!#?]', '', value)\n",
    "        value = value.title()\n",
    "        result.append(value)\n",
    "    return result"
   ]
  },
  {
   "cell_type": "code",
   "execution_count": 121,
   "metadata": {},
   "outputs": [
    {
     "data": {
      "text/plain": [
       "['Alabama',\n",
       " 'Georgia',\n",
       " 'Georgia',\n",
       " 'Georgia',\n",
       " 'Florida',\n",
       " 'South Carolina',\n",
       " 'West Virginia']"
      ]
     },
     "execution_count": 121,
     "metadata": {},
     "output_type": "execute_result"
    }
   ],
   "source": [
    "clean_strings(states)"
   ]
  },
  {
   "cell_type": "code",
   "execution_count": 122,
   "metadata": {},
   "outputs": [],
   "source": [
    "def remove_punctuation(value):\n",
    "    return re.sub('[!#?]', '', value)\n",
    "\n",
    "clean_ops = [str.strip, remove_punctuation, str.title]\n",
    "\n",
    "def clean_strings(strings, ops):\n",
    "    result = []\n",
    "    for value in strings:\n",
    "        for function in ops:\n",
    "            value = function(value)\n",
    "        result.append(value)\n",
    "    return result"
   ]
  },
  {
   "cell_type": "code",
   "execution_count": 123,
   "metadata": {},
   "outputs": [
    {
     "data": {
      "text/plain": [
       "['Alabama',\n",
       " 'Georgia',\n",
       " 'Georgia',\n",
       " 'Georgia',\n",
       " 'Florida',\n",
       " 'South Carolina',\n",
       " 'West Virginia']"
      ]
     },
     "execution_count": 123,
     "metadata": {},
     "output_type": "execute_result"
    }
   ],
   "source": [
    "clean_strings(states, clean_ops)"
   ]
  },
  {
   "cell_type": "code",
   "execution_count": 124,
   "metadata": {},
   "outputs": [
    {
     "name": "stdout",
     "output_type": "stream",
     "text": [
      "   Alabama \n",
      "Georgia\n",
      "Georgia\n",
      "georgia\n",
      "FlOrIda\n",
      "south carolina\n",
      "West virginia\n"
     ]
    }
   ],
   "source": [
    "for x in map(remove_punctuation, states):\n",
    "    print(x)"
   ]
  },
  {
   "cell_type": "code",
   "execution_count": 125,
   "metadata": {},
   "outputs": [
    {
     "data": {
      "text/plain": [
       "[8, 0, 2, 10, 12]"
      ]
     },
     "execution_count": 125,
     "metadata": {},
     "output_type": "execute_result"
    }
   ],
   "source": [
    "def apply_to_list(some_list, f):\n",
    "    return [f(x) for x in some_list]\n",
    "\n",
    "ints = [4, 0, 1, 5, 6]\n",
    "apply_to_list(ints, lambda x: x * 2)"
   ]
  },
  {
   "cell_type": "code",
   "execution_count": 126,
   "metadata": {},
   "outputs": [],
   "source": [
    "strings = ['foo', 'card', 'bar', 'aaaa', 'abab']\n",
    "strings.sort(key=lambda x: len(set(list(x))))"
   ]
  },
  {
   "cell_type": "code",
   "execution_count": 127,
   "metadata": {},
   "outputs": [
    {
     "data": {
      "text/plain": [
       "['aaaa', 'foo', 'abab', 'bar', 'card']"
      ]
     },
     "execution_count": 127,
     "metadata": {},
     "output_type": "execute_result"
    }
   ],
   "source": [
    "strings"
   ]
  },
  {
   "cell_type": "code",
   "execution_count": 128,
   "metadata": {},
   "outputs": [
    {
     "name": "stdout",
     "output_type": "stream",
     "text": [
      "a\n",
      "b\n",
      "c\n"
     ]
    }
   ],
   "source": [
    "some_dict = {'a': 1, 'b': 2, 'c': 3}\n",
    "\n",
    "for key in some_dict:\n",
    "    print(key)"
   ]
  },
  {
   "cell_type": "code",
   "execution_count": 129,
   "metadata": {},
   "outputs": [],
   "source": [
    "dict_iterator = iter(some_dict)"
   ]
  },
  {
   "cell_type": "code",
   "execution_count": 130,
   "metadata": {},
   "outputs": [
    {
     "data": {
      "text/plain": [
       "<dict_keyiterator at 0x7f4b981cb9a8>"
      ]
     },
     "execution_count": 130,
     "metadata": {},
     "output_type": "execute_result"
    }
   ],
   "source": [
    "dict_iterator"
   ]
  },
  {
   "cell_type": "code",
   "execution_count": 131,
   "metadata": {},
   "outputs": [
    {
     "name": "stdout",
     "output_type": "stream",
     "text": [
      "a\n",
      "b\n",
      "c\n"
     ]
    }
   ],
   "source": [
    "for key in dict_iterator:\n",
    "    print(key)"
   ]
  },
  {
   "cell_type": "code",
   "execution_count": 132,
   "metadata": {},
   "outputs": [
    {
     "data": {
      "text/plain": [
       "[]"
      ]
     },
     "execution_count": 132,
     "metadata": {},
     "output_type": "execute_result"
    }
   ],
   "source": [
    "list(dict_iterator)"
   ]
  },
  {
   "cell_type": "code",
   "execution_count": 133,
   "metadata": {},
   "outputs": [],
   "source": [
    "def squares(n=10):\n",
    "    print('Generating squares from 1 to {0}'.format(n ** 2))\n",
    "    for i in range(1, n+1):\n",
    "        yield i ** 2"
   ]
  },
  {
   "cell_type": "code",
   "execution_count": 134,
   "metadata": {},
   "outputs": [],
   "source": [
    "gen = squares()"
   ]
  },
  {
   "cell_type": "code",
   "execution_count": 135,
   "metadata": {},
   "outputs": [],
   "source": [
    "itera = iter(gen)"
   ]
  },
  {
   "cell_type": "code",
   "execution_count": 136,
   "metadata": {},
   "outputs": [
    {
     "data": {
      "text/plain": [
       "<generator object squares at 0x7f4b98283de0>"
      ]
     },
     "execution_count": 136,
     "metadata": {},
     "output_type": "execute_result"
    }
   ],
   "source": [
    "itera"
   ]
  },
  {
   "cell_type": "code",
   "execution_count": 137,
   "metadata": {},
   "outputs": [
    {
     "data": {
      "text/plain": [
       "<generator object squares at 0x7f4b98283de0>"
      ]
     },
     "execution_count": 137,
     "metadata": {},
     "output_type": "execute_result"
    }
   ],
   "source": [
    "gen"
   ]
  },
  {
   "cell_type": "code",
   "execution_count": 138,
   "metadata": {},
   "outputs": [
    {
     "data": {
      "text/plain": [
       "<list_iterator at 0x7f4b9815d358>"
      ]
     },
     "execution_count": 138,
     "metadata": {},
     "output_type": "execute_result"
    }
   ],
   "source": [
    "iter([1, 2, 3])"
   ]
  },
  {
   "cell_type": "code",
   "execution_count": 139,
   "metadata": {},
   "outputs": [
    {
     "name": "stdout",
     "output_type": "stream",
     "text": [
      "Generating squares from 1 to 100\n",
      "1 4 9 16 25 36 49 64 81 100 "
     ]
    }
   ],
   "source": [
    "for x in gen:\n",
    "    print(x, end=' ')"
   ]
  },
  {
   "cell_type": "code",
   "execution_count": 140,
   "metadata": {},
   "outputs": [],
   "source": [
    "gen = (x ** 2 for x in range(100))"
   ]
  },
  {
   "cell_type": "code",
   "execution_count": 141,
   "metadata": {},
   "outputs": [
    {
     "data": {
      "text/plain": [
       "<generator object <genexpr> at 0x7f4b981c2390>"
      ]
     },
     "execution_count": 141,
     "metadata": {},
     "output_type": "execute_result"
    }
   ],
   "source": [
    "gen"
   ]
  },
  {
   "cell_type": "code",
   "execution_count": 142,
   "metadata": {},
   "outputs": [
    {
     "data": {
      "text/plain": [
       "{1: 2}"
      ]
     },
     "execution_count": 142,
     "metadata": {},
     "output_type": "execute_result"
    }
   ],
   "source": [
    "dict([[1, 2]])"
   ]
  },
  {
   "cell_type": "code",
   "execution_count": 143,
   "metadata": {},
   "outputs": [
    {
     "data": {
      "text/plain": [
       "{0: 0, 1: 1, 2: 4, 3: 9, 4: 16}"
      ]
     },
     "execution_count": 143,
     "metadata": {},
     "output_type": "execute_result"
    }
   ],
   "source": [
    "dict((i, i ** 2) for i in range(5))"
   ]
  },
  {
   "cell_type": "code",
   "execution_count": 144,
   "metadata": {},
   "outputs": [
    {
     "data": {
      "text/plain": [
       "{0: 0, 1: 1, 2: 4, 3: 9, 4: 16}"
      ]
     },
     "execution_count": 144,
     "metadata": {},
     "output_type": "execute_result"
    }
   ],
   "source": [
    "dict([(i, i ** 2) for i in range(5)])"
   ]
  },
  {
   "cell_type": "code",
   "execution_count": 145,
   "metadata": {},
   "outputs": [],
   "source": [
    "names = ['Alan', 'Adam', 'Wes', 'Will', 'Albert', 'Steven']"
   ]
  },
  {
   "cell_type": "code",
   "execution_count": 146,
   "metadata": {},
   "outputs": [],
   "source": [
    "import itertools"
   ]
  },
  {
   "cell_type": "code",
   "execution_count": 147,
   "metadata": {},
   "outputs": [
    {
     "data": {
      "text/plain": [
       "[('Alan', 'Adam'),\n",
       " ('Alan', 'Wes'),\n",
       " ('Alan', 'Will'),\n",
       " ('Alan', 'Albert'),\n",
       " ('Alan', 'Steven'),\n",
       " ('Adam', 'Wes'),\n",
       " ('Adam', 'Will'),\n",
       " ('Adam', 'Albert'),\n",
       " ('Adam', 'Steven'),\n",
       " ('Wes', 'Will'),\n",
       " ('Wes', 'Albert'),\n",
       " ('Wes', 'Steven'),\n",
       " ('Will', 'Albert'),\n",
       " ('Will', 'Steven'),\n",
       " ('Albert', 'Steven')]"
      ]
     },
     "execution_count": 147,
     "metadata": {},
     "output_type": "execute_result"
    }
   ],
   "source": [
    "list(itertools.combinations(names, 2))"
   ]
  },
  {
   "cell_type": "code",
   "execution_count": 148,
   "metadata": {},
   "outputs": [
    {
     "data": {
      "text/plain": [
       "[('Alan', 'Adam'),\n",
       " ('Alan', 'Wes'),\n",
       " ('Alan', 'Will'),\n",
       " ('Alan', 'Albert'),\n",
       " ('Alan', 'Steven'),\n",
       " ('Adam', 'Alan'),\n",
       " ('Adam', 'Wes'),\n",
       " ('Adam', 'Will'),\n",
       " ('Adam', 'Albert'),\n",
       " ('Adam', 'Steven'),\n",
       " ('Wes', 'Alan'),\n",
       " ('Wes', 'Adam'),\n",
       " ('Wes', 'Will'),\n",
       " ('Wes', 'Albert'),\n",
       " ('Wes', 'Steven'),\n",
       " ('Will', 'Alan'),\n",
       " ('Will', 'Adam'),\n",
       " ('Will', 'Wes'),\n",
       " ('Will', 'Albert'),\n",
       " ('Will', 'Steven'),\n",
       " ('Albert', 'Alan'),\n",
       " ('Albert', 'Adam'),\n",
       " ('Albert', 'Wes'),\n",
       " ('Albert', 'Will'),\n",
       " ('Albert', 'Steven'),\n",
       " ('Steven', 'Alan'),\n",
       " ('Steven', 'Adam'),\n",
       " ('Steven', 'Wes'),\n",
       " ('Steven', 'Will'),\n",
       " ('Steven', 'Albert')]"
      ]
     },
     "execution_count": 148,
     "metadata": {},
     "output_type": "execute_result"
    }
   ],
   "source": [
    "list(itertools.permutations(names, 2))"
   ]
  },
  {
   "cell_type": "code",
   "execution_count": 149,
   "metadata": {},
   "outputs": [
    {
     "data": {
      "text/plain": [
       "[('A', 'A', 'W', 'W', 'A', 'S'),\n",
       " ('A', 'A', 'W', 'W', 'A', 't'),\n",
       " ('A', 'A', 'W', 'W', 'A', 'e'),\n",
       " ('A', 'A', 'W', 'W', 'A', 'v'),\n",
       " ('A', 'A', 'W', 'W', 'A', 'e'),\n",
       " ('A', 'A', 'W', 'W', 'A', 'n'),\n",
       " ('A', 'A', 'W', 'W', 'l', 'S'),\n",
       " ('A', 'A', 'W', 'W', 'l', 't'),\n",
       " ('A', 'A', 'W', 'W', 'l', 'e'),\n",
       " ('A', 'A', 'W', 'W', 'l', 'v'),\n",
       " ('A', 'A', 'W', 'W', 'l', 'e'),\n",
       " ('A', 'A', 'W', 'W', 'l', 'n'),\n",
       " ('A', 'A', 'W', 'W', 'b', 'S'),\n",
       " ('A', 'A', 'W', 'W', 'b', 't'),\n",
       " ('A', 'A', 'W', 'W', 'b', 'e'),\n",
       " ('A', 'A', 'W', 'W', 'b', 'v'),\n",
       " ('A', 'A', 'W', 'W', 'b', 'e'),\n",
       " ('A', 'A', 'W', 'W', 'b', 'n'),\n",
       " ('A', 'A', 'W', 'W', 'e', 'S'),\n",
       " ('A', 'A', 'W', 'W', 'e', 't'),\n",
       " ('A', 'A', 'W', 'W', 'e', 'e'),\n",
       " ('A', 'A', 'W', 'W', 'e', 'v'),\n",
       " ('A', 'A', 'W', 'W', 'e', 'e'),\n",
       " ('A', 'A', 'W', 'W', 'e', 'n'),\n",
       " ('A', 'A', 'W', 'W', 'r', 'S'),\n",
       " ('A', 'A', 'W', 'W', 'r', 't'),\n",
       " ('A', 'A', 'W', 'W', 'r', 'e'),\n",
       " ('A', 'A', 'W', 'W', 'r', 'v'),\n",
       " ('A', 'A', 'W', 'W', 'r', 'e'),\n",
       " ('A', 'A', 'W', 'W', 'r', 'n'),\n",
       " ('A', 'A', 'W', 'W', 't', 'S'),\n",
       " ('A', 'A', 'W', 'W', 't', 't'),\n",
       " ('A', 'A', 'W', 'W', 't', 'e'),\n",
       " ('A', 'A', 'W', 'W', 't', 'v'),\n",
       " ('A', 'A', 'W', 'W', 't', 'e'),\n",
       " ('A', 'A', 'W', 'W', 't', 'n'),\n",
       " ('A', 'A', 'W', 'i', 'A', 'S'),\n",
       " ('A', 'A', 'W', 'i', 'A', 't'),\n",
       " ('A', 'A', 'W', 'i', 'A', 'e'),\n",
       " ('A', 'A', 'W', 'i', 'A', 'v'),\n",
       " ('A', 'A', 'W', 'i', 'A', 'e'),\n",
       " ('A', 'A', 'W', 'i', 'A', 'n'),\n",
       " ('A', 'A', 'W', 'i', 'l', 'S'),\n",
       " ('A', 'A', 'W', 'i', 'l', 't'),\n",
       " ('A', 'A', 'W', 'i', 'l', 'e'),\n",
       " ('A', 'A', 'W', 'i', 'l', 'v'),\n",
       " ('A', 'A', 'W', 'i', 'l', 'e'),\n",
       " ('A', 'A', 'W', 'i', 'l', 'n'),\n",
       " ('A', 'A', 'W', 'i', 'b', 'S'),\n",
       " ('A', 'A', 'W', 'i', 'b', 't'),\n",
       " ('A', 'A', 'W', 'i', 'b', 'e'),\n",
       " ('A', 'A', 'W', 'i', 'b', 'v'),\n",
       " ('A', 'A', 'W', 'i', 'b', 'e'),\n",
       " ('A', 'A', 'W', 'i', 'b', 'n'),\n",
       " ('A', 'A', 'W', 'i', 'e', 'S'),\n",
       " ('A', 'A', 'W', 'i', 'e', 't'),\n",
       " ('A', 'A', 'W', 'i', 'e', 'e'),\n",
       " ('A', 'A', 'W', 'i', 'e', 'v'),\n",
       " ('A', 'A', 'W', 'i', 'e', 'e'),\n",
       " ('A', 'A', 'W', 'i', 'e', 'n'),\n",
       " ('A', 'A', 'W', 'i', 'r', 'S'),\n",
       " ('A', 'A', 'W', 'i', 'r', 't'),\n",
       " ('A', 'A', 'W', 'i', 'r', 'e'),\n",
       " ('A', 'A', 'W', 'i', 'r', 'v'),\n",
       " ('A', 'A', 'W', 'i', 'r', 'e'),\n",
       " ('A', 'A', 'W', 'i', 'r', 'n'),\n",
       " ('A', 'A', 'W', 'i', 't', 'S'),\n",
       " ('A', 'A', 'W', 'i', 't', 't'),\n",
       " ('A', 'A', 'W', 'i', 't', 'e'),\n",
       " ('A', 'A', 'W', 'i', 't', 'v'),\n",
       " ('A', 'A', 'W', 'i', 't', 'e'),\n",
       " ('A', 'A', 'W', 'i', 't', 'n'),\n",
       " ('A', 'A', 'W', 'l', 'A', 'S'),\n",
       " ('A', 'A', 'W', 'l', 'A', 't'),\n",
       " ('A', 'A', 'W', 'l', 'A', 'e'),\n",
       " ('A', 'A', 'W', 'l', 'A', 'v'),\n",
       " ('A', 'A', 'W', 'l', 'A', 'e'),\n",
       " ('A', 'A', 'W', 'l', 'A', 'n'),\n",
       " ('A', 'A', 'W', 'l', 'l', 'S'),\n",
       " ('A', 'A', 'W', 'l', 'l', 't'),\n",
       " ('A', 'A', 'W', 'l', 'l', 'e'),\n",
       " ('A', 'A', 'W', 'l', 'l', 'v'),\n",
       " ('A', 'A', 'W', 'l', 'l', 'e'),\n",
       " ('A', 'A', 'W', 'l', 'l', 'n'),\n",
       " ('A', 'A', 'W', 'l', 'b', 'S'),\n",
       " ('A', 'A', 'W', 'l', 'b', 't'),\n",
       " ('A', 'A', 'W', 'l', 'b', 'e'),\n",
       " ('A', 'A', 'W', 'l', 'b', 'v'),\n",
       " ('A', 'A', 'W', 'l', 'b', 'e'),\n",
       " ('A', 'A', 'W', 'l', 'b', 'n'),\n",
       " ('A', 'A', 'W', 'l', 'e', 'S'),\n",
       " ('A', 'A', 'W', 'l', 'e', 't'),\n",
       " ('A', 'A', 'W', 'l', 'e', 'e'),\n",
       " ('A', 'A', 'W', 'l', 'e', 'v'),\n",
       " ('A', 'A', 'W', 'l', 'e', 'e'),\n",
       " ('A', 'A', 'W', 'l', 'e', 'n'),\n",
       " ('A', 'A', 'W', 'l', 'r', 'S'),\n",
       " ('A', 'A', 'W', 'l', 'r', 't'),\n",
       " ('A', 'A', 'W', 'l', 'r', 'e'),\n",
       " ('A', 'A', 'W', 'l', 'r', 'v'),\n",
       " ('A', 'A', 'W', 'l', 'r', 'e'),\n",
       " ('A', 'A', 'W', 'l', 'r', 'n'),\n",
       " ('A', 'A', 'W', 'l', 't', 'S'),\n",
       " ('A', 'A', 'W', 'l', 't', 't'),\n",
       " ('A', 'A', 'W', 'l', 't', 'e'),\n",
       " ('A', 'A', 'W', 'l', 't', 'v'),\n",
       " ('A', 'A', 'W', 'l', 't', 'e'),\n",
       " ('A', 'A', 'W', 'l', 't', 'n'),\n",
       " ('A', 'A', 'W', 'l', 'A', 'S'),\n",
       " ('A', 'A', 'W', 'l', 'A', 't'),\n",
       " ('A', 'A', 'W', 'l', 'A', 'e'),\n",
       " ('A', 'A', 'W', 'l', 'A', 'v'),\n",
       " ('A', 'A', 'W', 'l', 'A', 'e'),\n",
       " ('A', 'A', 'W', 'l', 'A', 'n'),\n",
       " ('A', 'A', 'W', 'l', 'l', 'S'),\n",
       " ('A', 'A', 'W', 'l', 'l', 't'),\n",
       " ('A', 'A', 'W', 'l', 'l', 'e'),\n",
       " ('A', 'A', 'W', 'l', 'l', 'v'),\n",
       " ('A', 'A', 'W', 'l', 'l', 'e'),\n",
       " ('A', 'A', 'W', 'l', 'l', 'n'),\n",
       " ('A', 'A', 'W', 'l', 'b', 'S'),\n",
       " ('A', 'A', 'W', 'l', 'b', 't'),\n",
       " ('A', 'A', 'W', 'l', 'b', 'e'),\n",
       " ('A', 'A', 'W', 'l', 'b', 'v'),\n",
       " ('A', 'A', 'W', 'l', 'b', 'e'),\n",
       " ('A', 'A', 'W', 'l', 'b', 'n'),\n",
       " ('A', 'A', 'W', 'l', 'e', 'S'),\n",
       " ('A', 'A', 'W', 'l', 'e', 't'),\n",
       " ('A', 'A', 'W', 'l', 'e', 'e'),\n",
       " ('A', 'A', 'W', 'l', 'e', 'v'),\n",
       " ('A', 'A', 'W', 'l', 'e', 'e'),\n",
       " ('A', 'A', 'W', 'l', 'e', 'n'),\n",
       " ('A', 'A', 'W', 'l', 'r', 'S'),\n",
       " ('A', 'A', 'W', 'l', 'r', 't'),\n",
       " ('A', 'A', 'W', 'l', 'r', 'e'),\n",
       " ('A', 'A', 'W', 'l', 'r', 'v'),\n",
       " ('A', 'A', 'W', 'l', 'r', 'e'),\n",
       " ('A', 'A', 'W', 'l', 'r', 'n'),\n",
       " ('A', 'A', 'W', 'l', 't', 'S'),\n",
       " ('A', 'A', 'W', 'l', 't', 't'),\n",
       " ('A', 'A', 'W', 'l', 't', 'e'),\n",
       " ('A', 'A', 'W', 'l', 't', 'v'),\n",
       " ('A', 'A', 'W', 'l', 't', 'e'),\n",
       " ('A', 'A', 'W', 'l', 't', 'n'),\n",
       " ('A', 'A', 'e', 'W', 'A', 'S'),\n",
       " ('A', 'A', 'e', 'W', 'A', 't'),\n",
       " ('A', 'A', 'e', 'W', 'A', 'e'),\n",
       " ('A', 'A', 'e', 'W', 'A', 'v'),\n",
       " ('A', 'A', 'e', 'W', 'A', 'e'),\n",
       " ('A', 'A', 'e', 'W', 'A', 'n'),\n",
       " ('A', 'A', 'e', 'W', 'l', 'S'),\n",
       " ('A', 'A', 'e', 'W', 'l', 't'),\n",
       " ('A', 'A', 'e', 'W', 'l', 'e'),\n",
       " ('A', 'A', 'e', 'W', 'l', 'v'),\n",
       " ('A', 'A', 'e', 'W', 'l', 'e'),\n",
       " ('A', 'A', 'e', 'W', 'l', 'n'),\n",
       " ('A', 'A', 'e', 'W', 'b', 'S'),\n",
       " ('A', 'A', 'e', 'W', 'b', 't'),\n",
       " ('A', 'A', 'e', 'W', 'b', 'e'),\n",
       " ('A', 'A', 'e', 'W', 'b', 'v'),\n",
       " ('A', 'A', 'e', 'W', 'b', 'e'),\n",
       " ('A', 'A', 'e', 'W', 'b', 'n'),\n",
       " ('A', 'A', 'e', 'W', 'e', 'S'),\n",
       " ('A', 'A', 'e', 'W', 'e', 't'),\n",
       " ('A', 'A', 'e', 'W', 'e', 'e'),\n",
       " ('A', 'A', 'e', 'W', 'e', 'v'),\n",
       " ('A', 'A', 'e', 'W', 'e', 'e'),\n",
       " ('A', 'A', 'e', 'W', 'e', 'n'),\n",
       " ('A', 'A', 'e', 'W', 'r', 'S'),\n",
       " ('A', 'A', 'e', 'W', 'r', 't'),\n",
       " ('A', 'A', 'e', 'W', 'r', 'e'),\n",
       " ('A', 'A', 'e', 'W', 'r', 'v'),\n",
       " ('A', 'A', 'e', 'W', 'r', 'e'),\n",
       " ('A', 'A', 'e', 'W', 'r', 'n'),\n",
       " ('A', 'A', 'e', 'W', 't', 'S'),\n",
       " ('A', 'A', 'e', 'W', 't', 't'),\n",
       " ('A', 'A', 'e', 'W', 't', 'e'),\n",
       " ('A', 'A', 'e', 'W', 't', 'v'),\n",
       " ('A', 'A', 'e', 'W', 't', 'e'),\n",
       " ('A', 'A', 'e', 'W', 't', 'n'),\n",
       " ('A', 'A', 'e', 'i', 'A', 'S'),\n",
       " ('A', 'A', 'e', 'i', 'A', 't'),\n",
       " ('A', 'A', 'e', 'i', 'A', 'e'),\n",
       " ('A', 'A', 'e', 'i', 'A', 'v'),\n",
       " ('A', 'A', 'e', 'i', 'A', 'e'),\n",
       " ('A', 'A', 'e', 'i', 'A', 'n'),\n",
       " ('A', 'A', 'e', 'i', 'l', 'S'),\n",
       " ('A', 'A', 'e', 'i', 'l', 't'),\n",
       " ('A', 'A', 'e', 'i', 'l', 'e'),\n",
       " ('A', 'A', 'e', 'i', 'l', 'v'),\n",
       " ('A', 'A', 'e', 'i', 'l', 'e'),\n",
       " ('A', 'A', 'e', 'i', 'l', 'n'),\n",
       " ('A', 'A', 'e', 'i', 'b', 'S'),\n",
       " ('A', 'A', 'e', 'i', 'b', 't'),\n",
       " ('A', 'A', 'e', 'i', 'b', 'e'),\n",
       " ('A', 'A', 'e', 'i', 'b', 'v'),\n",
       " ('A', 'A', 'e', 'i', 'b', 'e'),\n",
       " ('A', 'A', 'e', 'i', 'b', 'n'),\n",
       " ('A', 'A', 'e', 'i', 'e', 'S'),\n",
       " ('A', 'A', 'e', 'i', 'e', 't'),\n",
       " ('A', 'A', 'e', 'i', 'e', 'e'),\n",
       " ('A', 'A', 'e', 'i', 'e', 'v'),\n",
       " ('A', 'A', 'e', 'i', 'e', 'e'),\n",
       " ('A', 'A', 'e', 'i', 'e', 'n'),\n",
       " ('A', 'A', 'e', 'i', 'r', 'S'),\n",
       " ('A', 'A', 'e', 'i', 'r', 't'),\n",
       " ('A', 'A', 'e', 'i', 'r', 'e'),\n",
       " ('A', 'A', 'e', 'i', 'r', 'v'),\n",
       " ('A', 'A', 'e', 'i', 'r', 'e'),\n",
       " ('A', 'A', 'e', 'i', 'r', 'n'),\n",
       " ('A', 'A', 'e', 'i', 't', 'S'),\n",
       " ('A', 'A', 'e', 'i', 't', 't'),\n",
       " ('A', 'A', 'e', 'i', 't', 'e'),\n",
       " ('A', 'A', 'e', 'i', 't', 'v'),\n",
       " ('A', 'A', 'e', 'i', 't', 'e'),\n",
       " ('A', 'A', 'e', 'i', 't', 'n'),\n",
       " ('A', 'A', 'e', 'l', 'A', 'S'),\n",
       " ('A', 'A', 'e', 'l', 'A', 't'),\n",
       " ('A', 'A', 'e', 'l', 'A', 'e'),\n",
       " ('A', 'A', 'e', 'l', 'A', 'v'),\n",
       " ('A', 'A', 'e', 'l', 'A', 'e'),\n",
       " ('A', 'A', 'e', 'l', 'A', 'n'),\n",
       " ('A', 'A', 'e', 'l', 'l', 'S'),\n",
       " ('A', 'A', 'e', 'l', 'l', 't'),\n",
       " ('A', 'A', 'e', 'l', 'l', 'e'),\n",
       " ('A', 'A', 'e', 'l', 'l', 'v'),\n",
       " ('A', 'A', 'e', 'l', 'l', 'e'),\n",
       " ('A', 'A', 'e', 'l', 'l', 'n'),\n",
       " ('A', 'A', 'e', 'l', 'b', 'S'),\n",
       " ('A', 'A', 'e', 'l', 'b', 't'),\n",
       " ('A', 'A', 'e', 'l', 'b', 'e'),\n",
       " ('A', 'A', 'e', 'l', 'b', 'v'),\n",
       " ('A', 'A', 'e', 'l', 'b', 'e'),\n",
       " ('A', 'A', 'e', 'l', 'b', 'n'),\n",
       " ('A', 'A', 'e', 'l', 'e', 'S'),\n",
       " ('A', 'A', 'e', 'l', 'e', 't'),\n",
       " ('A', 'A', 'e', 'l', 'e', 'e'),\n",
       " ('A', 'A', 'e', 'l', 'e', 'v'),\n",
       " ('A', 'A', 'e', 'l', 'e', 'e'),\n",
       " ('A', 'A', 'e', 'l', 'e', 'n'),\n",
       " ('A', 'A', 'e', 'l', 'r', 'S'),\n",
       " ('A', 'A', 'e', 'l', 'r', 't'),\n",
       " ('A', 'A', 'e', 'l', 'r', 'e'),\n",
       " ('A', 'A', 'e', 'l', 'r', 'v'),\n",
       " ('A', 'A', 'e', 'l', 'r', 'e'),\n",
       " ('A', 'A', 'e', 'l', 'r', 'n'),\n",
       " ('A', 'A', 'e', 'l', 't', 'S'),\n",
       " ('A', 'A', 'e', 'l', 't', 't'),\n",
       " ('A', 'A', 'e', 'l', 't', 'e'),\n",
       " ('A', 'A', 'e', 'l', 't', 'v'),\n",
       " ('A', 'A', 'e', 'l', 't', 'e'),\n",
       " ('A', 'A', 'e', 'l', 't', 'n'),\n",
       " ('A', 'A', 'e', 'l', 'A', 'S'),\n",
       " ('A', 'A', 'e', 'l', 'A', 't'),\n",
       " ('A', 'A', 'e', 'l', 'A', 'e'),\n",
       " ('A', 'A', 'e', 'l', 'A', 'v'),\n",
       " ('A', 'A', 'e', 'l', 'A', 'e'),\n",
       " ('A', 'A', 'e', 'l', 'A', 'n'),\n",
       " ('A', 'A', 'e', 'l', 'l', 'S'),\n",
       " ('A', 'A', 'e', 'l', 'l', 't'),\n",
       " ('A', 'A', 'e', 'l', 'l', 'e'),\n",
       " ('A', 'A', 'e', 'l', 'l', 'v'),\n",
       " ('A', 'A', 'e', 'l', 'l', 'e'),\n",
       " ('A', 'A', 'e', 'l', 'l', 'n'),\n",
       " ('A', 'A', 'e', 'l', 'b', 'S'),\n",
       " ('A', 'A', 'e', 'l', 'b', 't'),\n",
       " ('A', 'A', 'e', 'l', 'b', 'e'),\n",
       " ('A', 'A', 'e', 'l', 'b', 'v'),\n",
       " ('A', 'A', 'e', 'l', 'b', 'e'),\n",
       " ('A', 'A', 'e', 'l', 'b', 'n'),\n",
       " ('A', 'A', 'e', 'l', 'e', 'S'),\n",
       " ('A', 'A', 'e', 'l', 'e', 't'),\n",
       " ('A', 'A', 'e', 'l', 'e', 'e'),\n",
       " ('A', 'A', 'e', 'l', 'e', 'v'),\n",
       " ('A', 'A', 'e', 'l', 'e', 'e'),\n",
       " ('A', 'A', 'e', 'l', 'e', 'n'),\n",
       " ('A', 'A', 'e', 'l', 'r', 'S'),\n",
       " ('A', 'A', 'e', 'l', 'r', 't'),\n",
       " ('A', 'A', 'e', 'l', 'r', 'e'),\n",
       " ('A', 'A', 'e', 'l', 'r', 'v'),\n",
       " ('A', 'A', 'e', 'l', 'r', 'e'),\n",
       " ('A', 'A', 'e', 'l', 'r', 'n'),\n",
       " ('A', 'A', 'e', 'l', 't', 'S'),\n",
       " ('A', 'A', 'e', 'l', 't', 't'),\n",
       " ('A', 'A', 'e', 'l', 't', 'e'),\n",
       " ('A', 'A', 'e', 'l', 't', 'v'),\n",
       " ('A', 'A', 'e', 'l', 't', 'e'),\n",
       " ('A', 'A', 'e', 'l', 't', 'n'),\n",
       " ('A', 'A', 's', 'W', 'A', 'S'),\n",
       " ('A', 'A', 's', 'W', 'A', 't'),\n",
       " ('A', 'A', 's', 'W', 'A', 'e'),\n",
       " ('A', 'A', 's', 'W', 'A', 'v'),\n",
       " ('A', 'A', 's', 'W', 'A', 'e'),\n",
       " ('A', 'A', 's', 'W', 'A', 'n'),\n",
       " ('A', 'A', 's', 'W', 'l', 'S'),\n",
       " ('A', 'A', 's', 'W', 'l', 't'),\n",
       " ('A', 'A', 's', 'W', 'l', 'e'),\n",
       " ('A', 'A', 's', 'W', 'l', 'v'),\n",
       " ('A', 'A', 's', 'W', 'l', 'e'),\n",
       " ('A', 'A', 's', 'W', 'l', 'n'),\n",
       " ('A', 'A', 's', 'W', 'b', 'S'),\n",
       " ('A', 'A', 's', 'W', 'b', 't'),\n",
       " ('A', 'A', 's', 'W', 'b', 'e'),\n",
       " ('A', 'A', 's', 'W', 'b', 'v'),\n",
       " ('A', 'A', 's', 'W', 'b', 'e'),\n",
       " ('A', 'A', 's', 'W', 'b', 'n'),\n",
       " ('A', 'A', 's', 'W', 'e', 'S'),\n",
       " ('A', 'A', 's', 'W', 'e', 't'),\n",
       " ('A', 'A', 's', 'W', 'e', 'e'),\n",
       " ('A', 'A', 's', 'W', 'e', 'v'),\n",
       " ('A', 'A', 's', 'W', 'e', 'e'),\n",
       " ('A', 'A', 's', 'W', 'e', 'n'),\n",
       " ('A', 'A', 's', 'W', 'r', 'S'),\n",
       " ('A', 'A', 's', 'W', 'r', 't'),\n",
       " ('A', 'A', 's', 'W', 'r', 'e'),\n",
       " ('A', 'A', 's', 'W', 'r', 'v'),\n",
       " ('A', 'A', 's', 'W', 'r', 'e'),\n",
       " ('A', 'A', 's', 'W', 'r', 'n'),\n",
       " ('A', 'A', 's', 'W', 't', 'S'),\n",
       " ('A', 'A', 's', 'W', 't', 't'),\n",
       " ('A', 'A', 's', 'W', 't', 'e'),\n",
       " ('A', 'A', 's', 'W', 't', 'v'),\n",
       " ('A', 'A', 's', 'W', 't', 'e'),\n",
       " ('A', 'A', 's', 'W', 't', 'n'),\n",
       " ('A', 'A', 's', 'i', 'A', 'S'),\n",
       " ('A', 'A', 's', 'i', 'A', 't'),\n",
       " ('A', 'A', 's', 'i', 'A', 'e'),\n",
       " ('A', 'A', 's', 'i', 'A', 'v'),\n",
       " ('A', 'A', 's', 'i', 'A', 'e'),\n",
       " ('A', 'A', 's', 'i', 'A', 'n'),\n",
       " ('A', 'A', 's', 'i', 'l', 'S'),\n",
       " ('A', 'A', 's', 'i', 'l', 't'),\n",
       " ('A', 'A', 's', 'i', 'l', 'e'),\n",
       " ('A', 'A', 's', 'i', 'l', 'v'),\n",
       " ('A', 'A', 's', 'i', 'l', 'e'),\n",
       " ('A', 'A', 's', 'i', 'l', 'n'),\n",
       " ('A', 'A', 's', 'i', 'b', 'S'),\n",
       " ('A', 'A', 's', 'i', 'b', 't'),\n",
       " ('A', 'A', 's', 'i', 'b', 'e'),\n",
       " ('A', 'A', 's', 'i', 'b', 'v'),\n",
       " ('A', 'A', 's', 'i', 'b', 'e'),\n",
       " ('A', 'A', 's', 'i', 'b', 'n'),\n",
       " ('A', 'A', 's', 'i', 'e', 'S'),\n",
       " ('A', 'A', 's', 'i', 'e', 't'),\n",
       " ('A', 'A', 's', 'i', 'e', 'e'),\n",
       " ('A', 'A', 's', 'i', 'e', 'v'),\n",
       " ('A', 'A', 's', 'i', 'e', 'e'),\n",
       " ('A', 'A', 's', 'i', 'e', 'n'),\n",
       " ('A', 'A', 's', 'i', 'r', 'S'),\n",
       " ('A', 'A', 's', 'i', 'r', 't'),\n",
       " ('A', 'A', 's', 'i', 'r', 'e'),\n",
       " ('A', 'A', 's', 'i', 'r', 'v'),\n",
       " ('A', 'A', 's', 'i', 'r', 'e'),\n",
       " ('A', 'A', 's', 'i', 'r', 'n'),\n",
       " ('A', 'A', 's', 'i', 't', 'S'),\n",
       " ('A', 'A', 's', 'i', 't', 't'),\n",
       " ('A', 'A', 's', 'i', 't', 'e'),\n",
       " ('A', 'A', 's', 'i', 't', 'v'),\n",
       " ('A', 'A', 's', 'i', 't', 'e'),\n",
       " ('A', 'A', 's', 'i', 't', 'n'),\n",
       " ('A', 'A', 's', 'l', 'A', 'S'),\n",
       " ('A', 'A', 's', 'l', 'A', 't'),\n",
       " ('A', 'A', 's', 'l', 'A', 'e'),\n",
       " ('A', 'A', 's', 'l', 'A', 'v'),\n",
       " ('A', 'A', 's', 'l', 'A', 'e'),\n",
       " ('A', 'A', 's', 'l', 'A', 'n'),\n",
       " ('A', 'A', 's', 'l', 'l', 'S'),\n",
       " ('A', 'A', 's', 'l', 'l', 't'),\n",
       " ('A', 'A', 's', 'l', 'l', 'e'),\n",
       " ('A', 'A', 's', 'l', 'l', 'v'),\n",
       " ('A', 'A', 's', 'l', 'l', 'e'),\n",
       " ('A', 'A', 's', 'l', 'l', 'n'),\n",
       " ('A', 'A', 's', 'l', 'b', 'S'),\n",
       " ('A', 'A', 's', 'l', 'b', 't'),\n",
       " ('A', 'A', 's', 'l', 'b', 'e'),\n",
       " ('A', 'A', 's', 'l', 'b', 'v'),\n",
       " ('A', 'A', 's', 'l', 'b', 'e'),\n",
       " ('A', 'A', 's', 'l', 'b', 'n'),\n",
       " ('A', 'A', 's', 'l', 'e', 'S'),\n",
       " ('A', 'A', 's', 'l', 'e', 't'),\n",
       " ('A', 'A', 's', 'l', 'e', 'e'),\n",
       " ('A', 'A', 's', 'l', 'e', 'v'),\n",
       " ('A', 'A', 's', 'l', 'e', 'e'),\n",
       " ('A', 'A', 's', 'l', 'e', 'n'),\n",
       " ('A', 'A', 's', 'l', 'r', 'S'),\n",
       " ('A', 'A', 's', 'l', 'r', 't'),\n",
       " ('A', 'A', 's', 'l', 'r', 'e'),\n",
       " ('A', 'A', 's', 'l', 'r', 'v'),\n",
       " ('A', 'A', 's', 'l', 'r', 'e'),\n",
       " ('A', 'A', 's', 'l', 'r', 'n'),\n",
       " ('A', 'A', 's', 'l', 't', 'S'),\n",
       " ('A', 'A', 's', 'l', 't', 't'),\n",
       " ('A', 'A', 's', 'l', 't', 'e'),\n",
       " ('A', 'A', 's', 'l', 't', 'v'),\n",
       " ('A', 'A', 's', 'l', 't', 'e'),\n",
       " ('A', 'A', 's', 'l', 't', 'n'),\n",
       " ('A', 'A', 's', 'l', 'A', 'S'),\n",
       " ('A', 'A', 's', 'l', 'A', 't'),\n",
       " ('A', 'A', 's', 'l', 'A', 'e'),\n",
       " ('A', 'A', 's', 'l', 'A', 'v'),\n",
       " ('A', 'A', 's', 'l', 'A', 'e'),\n",
       " ('A', 'A', 's', 'l', 'A', 'n'),\n",
       " ('A', 'A', 's', 'l', 'l', 'S'),\n",
       " ('A', 'A', 's', 'l', 'l', 't'),\n",
       " ('A', 'A', 's', 'l', 'l', 'e'),\n",
       " ('A', 'A', 's', 'l', 'l', 'v'),\n",
       " ('A', 'A', 's', 'l', 'l', 'e'),\n",
       " ('A', 'A', 's', 'l', 'l', 'n'),\n",
       " ('A', 'A', 's', 'l', 'b', 'S'),\n",
       " ('A', 'A', 's', 'l', 'b', 't'),\n",
       " ('A', 'A', 's', 'l', 'b', 'e'),\n",
       " ('A', 'A', 's', 'l', 'b', 'v'),\n",
       " ('A', 'A', 's', 'l', 'b', 'e'),\n",
       " ('A', 'A', 's', 'l', 'b', 'n'),\n",
       " ('A', 'A', 's', 'l', 'e', 'S'),\n",
       " ('A', 'A', 's', 'l', 'e', 't'),\n",
       " ('A', 'A', 's', 'l', 'e', 'e'),\n",
       " ('A', 'A', 's', 'l', 'e', 'v'),\n",
       " ('A', 'A', 's', 'l', 'e', 'e'),\n",
       " ('A', 'A', 's', 'l', 'e', 'n'),\n",
       " ('A', 'A', 's', 'l', 'r', 'S'),\n",
       " ('A', 'A', 's', 'l', 'r', 't'),\n",
       " ('A', 'A', 's', 'l', 'r', 'e'),\n",
       " ('A', 'A', 's', 'l', 'r', 'v'),\n",
       " ('A', 'A', 's', 'l', 'r', 'e'),\n",
       " ('A', 'A', 's', 'l', 'r', 'n'),\n",
       " ('A', 'A', 's', 'l', 't', 'S'),\n",
       " ('A', 'A', 's', 'l', 't', 't'),\n",
       " ('A', 'A', 's', 'l', 't', 'e'),\n",
       " ('A', 'A', 's', 'l', 't', 'v'),\n",
       " ('A', 'A', 's', 'l', 't', 'e'),\n",
       " ('A', 'A', 's', 'l', 't', 'n'),\n",
       " ('A', 'd', 'W', 'W', 'A', 'S'),\n",
       " ('A', 'd', 'W', 'W', 'A', 't'),\n",
       " ('A', 'd', 'W', 'W', 'A', 'e'),\n",
       " ('A', 'd', 'W', 'W', 'A', 'v'),\n",
       " ('A', 'd', 'W', 'W', 'A', 'e'),\n",
       " ('A', 'd', 'W', 'W', 'A', 'n'),\n",
       " ('A', 'd', 'W', 'W', 'l', 'S'),\n",
       " ('A', 'd', 'W', 'W', 'l', 't'),\n",
       " ('A', 'd', 'W', 'W', 'l', 'e'),\n",
       " ('A', 'd', 'W', 'W', 'l', 'v'),\n",
       " ('A', 'd', 'W', 'W', 'l', 'e'),\n",
       " ('A', 'd', 'W', 'W', 'l', 'n'),\n",
       " ('A', 'd', 'W', 'W', 'b', 'S'),\n",
       " ('A', 'd', 'W', 'W', 'b', 't'),\n",
       " ('A', 'd', 'W', 'W', 'b', 'e'),\n",
       " ('A', 'd', 'W', 'W', 'b', 'v'),\n",
       " ('A', 'd', 'W', 'W', 'b', 'e'),\n",
       " ('A', 'd', 'W', 'W', 'b', 'n'),\n",
       " ('A', 'd', 'W', 'W', 'e', 'S'),\n",
       " ('A', 'd', 'W', 'W', 'e', 't'),\n",
       " ('A', 'd', 'W', 'W', 'e', 'e'),\n",
       " ('A', 'd', 'W', 'W', 'e', 'v'),\n",
       " ('A', 'd', 'W', 'W', 'e', 'e'),\n",
       " ('A', 'd', 'W', 'W', 'e', 'n'),\n",
       " ('A', 'd', 'W', 'W', 'r', 'S'),\n",
       " ('A', 'd', 'W', 'W', 'r', 't'),\n",
       " ('A', 'd', 'W', 'W', 'r', 'e'),\n",
       " ('A', 'd', 'W', 'W', 'r', 'v'),\n",
       " ('A', 'd', 'W', 'W', 'r', 'e'),\n",
       " ('A', 'd', 'W', 'W', 'r', 'n'),\n",
       " ('A', 'd', 'W', 'W', 't', 'S'),\n",
       " ('A', 'd', 'W', 'W', 't', 't'),\n",
       " ('A', 'd', 'W', 'W', 't', 'e'),\n",
       " ('A', 'd', 'W', 'W', 't', 'v'),\n",
       " ('A', 'd', 'W', 'W', 't', 'e'),\n",
       " ('A', 'd', 'W', 'W', 't', 'n'),\n",
       " ('A', 'd', 'W', 'i', 'A', 'S'),\n",
       " ('A', 'd', 'W', 'i', 'A', 't'),\n",
       " ('A', 'd', 'W', 'i', 'A', 'e'),\n",
       " ('A', 'd', 'W', 'i', 'A', 'v'),\n",
       " ('A', 'd', 'W', 'i', 'A', 'e'),\n",
       " ('A', 'd', 'W', 'i', 'A', 'n'),\n",
       " ('A', 'd', 'W', 'i', 'l', 'S'),\n",
       " ('A', 'd', 'W', 'i', 'l', 't'),\n",
       " ('A', 'd', 'W', 'i', 'l', 'e'),\n",
       " ('A', 'd', 'W', 'i', 'l', 'v'),\n",
       " ('A', 'd', 'W', 'i', 'l', 'e'),\n",
       " ('A', 'd', 'W', 'i', 'l', 'n'),\n",
       " ('A', 'd', 'W', 'i', 'b', 'S'),\n",
       " ('A', 'd', 'W', 'i', 'b', 't'),\n",
       " ('A', 'd', 'W', 'i', 'b', 'e'),\n",
       " ('A', 'd', 'W', 'i', 'b', 'v'),\n",
       " ('A', 'd', 'W', 'i', 'b', 'e'),\n",
       " ('A', 'd', 'W', 'i', 'b', 'n'),\n",
       " ('A', 'd', 'W', 'i', 'e', 'S'),\n",
       " ('A', 'd', 'W', 'i', 'e', 't'),\n",
       " ('A', 'd', 'W', 'i', 'e', 'e'),\n",
       " ('A', 'd', 'W', 'i', 'e', 'v'),\n",
       " ('A', 'd', 'W', 'i', 'e', 'e'),\n",
       " ('A', 'd', 'W', 'i', 'e', 'n'),\n",
       " ('A', 'd', 'W', 'i', 'r', 'S'),\n",
       " ('A', 'd', 'W', 'i', 'r', 't'),\n",
       " ('A', 'd', 'W', 'i', 'r', 'e'),\n",
       " ('A', 'd', 'W', 'i', 'r', 'v'),\n",
       " ('A', 'd', 'W', 'i', 'r', 'e'),\n",
       " ('A', 'd', 'W', 'i', 'r', 'n'),\n",
       " ('A', 'd', 'W', 'i', 't', 'S'),\n",
       " ('A', 'd', 'W', 'i', 't', 't'),\n",
       " ('A', 'd', 'W', 'i', 't', 'e'),\n",
       " ('A', 'd', 'W', 'i', 't', 'v'),\n",
       " ('A', 'd', 'W', 'i', 't', 'e'),\n",
       " ('A', 'd', 'W', 'i', 't', 'n'),\n",
       " ('A', 'd', 'W', 'l', 'A', 'S'),\n",
       " ('A', 'd', 'W', 'l', 'A', 't'),\n",
       " ('A', 'd', 'W', 'l', 'A', 'e'),\n",
       " ('A', 'd', 'W', 'l', 'A', 'v'),\n",
       " ('A', 'd', 'W', 'l', 'A', 'e'),\n",
       " ('A', 'd', 'W', 'l', 'A', 'n'),\n",
       " ('A', 'd', 'W', 'l', 'l', 'S'),\n",
       " ('A', 'd', 'W', 'l', 'l', 't'),\n",
       " ('A', 'd', 'W', 'l', 'l', 'e'),\n",
       " ('A', 'd', 'W', 'l', 'l', 'v'),\n",
       " ('A', 'd', 'W', 'l', 'l', 'e'),\n",
       " ('A', 'd', 'W', 'l', 'l', 'n'),\n",
       " ('A', 'd', 'W', 'l', 'b', 'S'),\n",
       " ('A', 'd', 'W', 'l', 'b', 't'),\n",
       " ('A', 'd', 'W', 'l', 'b', 'e'),\n",
       " ('A', 'd', 'W', 'l', 'b', 'v'),\n",
       " ('A', 'd', 'W', 'l', 'b', 'e'),\n",
       " ('A', 'd', 'W', 'l', 'b', 'n'),\n",
       " ('A', 'd', 'W', 'l', 'e', 'S'),\n",
       " ('A', 'd', 'W', 'l', 'e', 't'),\n",
       " ('A', 'd', 'W', 'l', 'e', 'e'),\n",
       " ('A', 'd', 'W', 'l', 'e', 'v'),\n",
       " ('A', 'd', 'W', 'l', 'e', 'e'),\n",
       " ('A', 'd', 'W', 'l', 'e', 'n'),\n",
       " ('A', 'd', 'W', 'l', 'r', 'S'),\n",
       " ('A', 'd', 'W', 'l', 'r', 't'),\n",
       " ('A', 'd', 'W', 'l', 'r', 'e'),\n",
       " ('A', 'd', 'W', 'l', 'r', 'v'),\n",
       " ('A', 'd', 'W', 'l', 'r', 'e'),\n",
       " ('A', 'd', 'W', 'l', 'r', 'n'),\n",
       " ('A', 'd', 'W', 'l', 't', 'S'),\n",
       " ('A', 'd', 'W', 'l', 't', 't'),\n",
       " ('A', 'd', 'W', 'l', 't', 'e'),\n",
       " ('A', 'd', 'W', 'l', 't', 'v'),\n",
       " ('A', 'd', 'W', 'l', 't', 'e'),\n",
       " ('A', 'd', 'W', 'l', 't', 'n'),\n",
       " ('A', 'd', 'W', 'l', 'A', 'S'),\n",
       " ('A', 'd', 'W', 'l', 'A', 't'),\n",
       " ('A', 'd', 'W', 'l', 'A', 'e'),\n",
       " ('A', 'd', 'W', 'l', 'A', 'v'),\n",
       " ('A', 'd', 'W', 'l', 'A', 'e'),\n",
       " ('A', 'd', 'W', 'l', 'A', 'n'),\n",
       " ('A', 'd', 'W', 'l', 'l', 'S'),\n",
       " ('A', 'd', 'W', 'l', 'l', 't'),\n",
       " ('A', 'd', 'W', 'l', 'l', 'e'),\n",
       " ('A', 'd', 'W', 'l', 'l', 'v'),\n",
       " ('A', 'd', 'W', 'l', 'l', 'e'),\n",
       " ('A', 'd', 'W', 'l', 'l', 'n'),\n",
       " ('A', 'd', 'W', 'l', 'b', 'S'),\n",
       " ('A', 'd', 'W', 'l', 'b', 't'),\n",
       " ('A', 'd', 'W', 'l', 'b', 'e'),\n",
       " ('A', 'd', 'W', 'l', 'b', 'v'),\n",
       " ('A', 'd', 'W', 'l', 'b', 'e'),\n",
       " ('A', 'd', 'W', 'l', 'b', 'n'),\n",
       " ('A', 'd', 'W', 'l', 'e', 'S'),\n",
       " ('A', 'd', 'W', 'l', 'e', 't'),\n",
       " ('A', 'd', 'W', 'l', 'e', 'e'),\n",
       " ('A', 'd', 'W', 'l', 'e', 'v'),\n",
       " ('A', 'd', 'W', 'l', 'e', 'e'),\n",
       " ('A', 'd', 'W', 'l', 'e', 'n'),\n",
       " ('A', 'd', 'W', 'l', 'r', 'S'),\n",
       " ('A', 'd', 'W', 'l', 'r', 't'),\n",
       " ('A', 'd', 'W', 'l', 'r', 'e'),\n",
       " ('A', 'd', 'W', 'l', 'r', 'v'),\n",
       " ('A', 'd', 'W', 'l', 'r', 'e'),\n",
       " ('A', 'd', 'W', 'l', 'r', 'n'),\n",
       " ('A', 'd', 'W', 'l', 't', 'S'),\n",
       " ('A', 'd', 'W', 'l', 't', 't'),\n",
       " ('A', 'd', 'W', 'l', 't', 'e'),\n",
       " ('A', 'd', 'W', 'l', 't', 'v'),\n",
       " ('A', 'd', 'W', 'l', 't', 'e'),\n",
       " ('A', 'd', 'W', 'l', 't', 'n'),\n",
       " ('A', 'd', 'e', 'W', 'A', 'S'),\n",
       " ('A', 'd', 'e', 'W', 'A', 't'),\n",
       " ('A', 'd', 'e', 'W', 'A', 'e'),\n",
       " ('A', 'd', 'e', 'W', 'A', 'v'),\n",
       " ('A', 'd', 'e', 'W', 'A', 'e'),\n",
       " ('A', 'd', 'e', 'W', 'A', 'n'),\n",
       " ('A', 'd', 'e', 'W', 'l', 'S'),\n",
       " ('A', 'd', 'e', 'W', 'l', 't'),\n",
       " ('A', 'd', 'e', 'W', 'l', 'e'),\n",
       " ('A', 'd', 'e', 'W', 'l', 'v'),\n",
       " ('A', 'd', 'e', 'W', 'l', 'e'),\n",
       " ('A', 'd', 'e', 'W', 'l', 'n'),\n",
       " ('A', 'd', 'e', 'W', 'b', 'S'),\n",
       " ('A', 'd', 'e', 'W', 'b', 't'),\n",
       " ('A', 'd', 'e', 'W', 'b', 'e'),\n",
       " ('A', 'd', 'e', 'W', 'b', 'v'),\n",
       " ('A', 'd', 'e', 'W', 'b', 'e'),\n",
       " ('A', 'd', 'e', 'W', 'b', 'n'),\n",
       " ('A', 'd', 'e', 'W', 'e', 'S'),\n",
       " ('A', 'd', 'e', 'W', 'e', 't'),\n",
       " ('A', 'd', 'e', 'W', 'e', 'e'),\n",
       " ('A', 'd', 'e', 'W', 'e', 'v'),\n",
       " ('A', 'd', 'e', 'W', 'e', 'e'),\n",
       " ('A', 'd', 'e', 'W', 'e', 'n'),\n",
       " ('A', 'd', 'e', 'W', 'r', 'S'),\n",
       " ('A', 'd', 'e', 'W', 'r', 't'),\n",
       " ('A', 'd', 'e', 'W', 'r', 'e'),\n",
       " ('A', 'd', 'e', 'W', 'r', 'v'),\n",
       " ('A', 'd', 'e', 'W', 'r', 'e'),\n",
       " ('A', 'd', 'e', 'W', 'r', 'n'),\n",
       " ('A', 'd', 'e', 'W', 't', 'S'),\n",
       " ('A', 'd', 'e', 'W', 't', 't'),\n",
       " ('A', 'd', 'e', 'W', 't', 'e'),\n",
       " ('A', 'd', 'e', 'W', 't', 'v'),\n",
       " ('A', 'd', 'e', 'W', 't', 'e'),\n",
       " ('A', 'd', 'e', 'W', 't', 'n'),\n",
       " ('A', 'd', 'e', 'i', 'A', 'S'),\n",
       " ('A', 'd', 'e', 'i', 'A', 't'),\n",
       " ('A', 'd', 'e', 'i', 'A', 'e'),\n",
       " ('A', 'd', 'e', 'i', 'A', 'v'),\n",
       " ('A', 'd', 'e', 'i', 'A', 'e'),\n",
       " ('A', 'd', 'e', 'i', 'A', 'n'),\n",
       " ('A', 'd', 'e', 'i', 'l', 'S'),\n",
       " ('A', 'd', 'e', 'i', 'l', 't'),\n",
       " ('A', 'd', 'e', 'i', 'l', 'e'),\n",
       " ('A', 'd', 'e', 'i', 'l', 'v'),\n",
       " ('A', 'd', 'e', 'i', 'l', 'e'),\n",
       " ('A', 'd', 'e', 'i', 'l', 'n'),\n",
       " ('A', 'd', 'e', 'i', 'b', 'S'),\n",
       " ('A', 'd', 'e', 'i', 'b', 't'),\n",
       " ('A', 'd', 'e', 'i', 'b', 'e'),\n",
       " ('A', 'd', 'e', 'i', 'b', 'v'),\n",
       " ('A', 'd', 'e', 'i', 'b', 'e'),\n",
       " ('A', 'd', 'e', 'i', 'b', 'n'),\n",
       " ('A', 'd', 'e', 'i', 'e', 'S'),\n",
       " ('A', 'd', 'e', 'i', 'e', 't'),\n",
       " ('A', 'd', 'e', 'i', 'e', 'e'),\n",
       " ('A', 'd', 'e', 'i', 'e', 'v'),\n",
       " ('A', 'd', 'e', 'i', 'e', 'e'),\n",
       " ('A', 'd', 'e', 'i', 'e', 'n'),\n",
       " ('A', 'd', 'e', 'i', 'r', 'S'),\n",
       " ('A', 'd', 'e', 'i', 'r', 't'),\n",
       " ('A', 'd', 'e', 'i', 'r', 'e'),\n",
       " ('A', 'd', 'e', 'i', 'r', 'v'),\n",
       " ('A', 'd', 'e', 'i', 'r', 'e'),\n",
       " ('A', 'd', 'e', 'i', 'r', 'n'),\n",
       " ('A', 'd', 'e', 'i', 't', 'S'),\n",
       " ('A', 'd', 'e', 'i', 't', 't'),\n",
       " ('A', 'd', 'e', 'i', 't', 'e'),\n",
       " ('A', 'd', 'e', 'i', 't', 'v'),\n",
       " ('A', 'd', 'e', 'i', 't', 'e'),\n",
       " ('A', 'd', 'e', 'i', 't', 'n'),\n",
       " ('A', 'd', 'e', 'l', 'A', 'S'),\n",
       " ('A', 'd', 'e', 'l', 'A', 't'),\n",
       " ('A', 'd', 'e', 'l', 'A', 'e'),\n",
       " ('A', 'd', 'e', 'l', 'A', 'v'),\n",
       " ('A', 'd', 'e', 'l', 'A', 'e'),\n",
       " ('A', 'd', 'e', 'l', 'A', 'n'),\n",
       " ('A', 'd', 'e', 'l', 'l', 'S'),\n",
       " ('A', 'd', 'e', 'l', 'l', 't'),\n",
       " ('A', 'd', 'e', 'l', 'l', 'e'),\n",
       " ('A', 'd', 'e', 'l', 'l', 'v'),\n",
       " ('A', 'd', 'e', 'l', 'l', 'e'),\n",
       " ('A', 'd', 'e', 'l', 'l', 'n'),\n",
       " ('A', 'd', 'e', 'l', 'b', 'S'),\n",
       " ('A', 'd', 'e', 'l', 'b', 't'),\n",
       " ('A', 'd', 'e', 'l', 'b', 'e'),\n",
       " ('A', 'd', 'e', 'l', 'b', 'v'),\n",
       " ('A', 'd', 'e', 'l', 'b', 'e'),\n",
       " ('A', 'd', 'e', 'l', 'b', 'n'),\n",
       " ('A', 'd', 'e', 'l', 'e', 'S'),\n",
       " ('A', 'd', 'e', 'l', 'e', 't'),\n",
       " ('A', 'd', 'e', 'l', 'e', 'e'),\n",
       " ('A', 'd', 'e', 'l', 'e', 'v'),\n",
       " ('A', 'd', 'e', 'l', 'e', 'e'),\n",
       " ('A', 'd', 'e', 'l', 'e', 'n'),\n",
       " ('A', 'd', 'e', 'l', 'r', 'S'),\n",
       " ('A', 'd', 'e', 'l', 'r', 't'),\n",
       " ('A', 'd', 'e', 'l', 'r', 'e'),\n",
       " ('A', 'd', 'e', 'l', 'r', 'v'),\n",
       " ('A', 'd', 'e', 'l', 'r', 'e'),\n",
       " ('A', 'd', 'e', 'l', 'r', 'n'),\n",
       " ('A', 'd', 'e', 'l', 't', 'S'),\n",
       " ('A', 'd', 'e', 'l', 't', 't'),\n",
       " ('A', 'd', 'e', 'l', 't', 'e'),\n",
       " ('A', 'd', 'e', 'l', 't', 'v'),\n",
       " ('A', 'd', 'e', 'l', 't', 'e'),\n",
       " ('A', 'd', 'e', 'l', 't', 'n'),\n",
       " ('A', 'd', 'e', 'l', 'A', 'S'),\n",
       " ('A', 'd', 'e', 'l', 'A', 't'),\n",
       " ('A', 'd', 'e', 'l', 'A', 'e'),\n",
       " ('A', 'd', 'e', 'l', 'A', 'v'),\n",
       " ('A', 'd', 'e', 'l', 'A', 'e'),\n",
       " ('A', 'd', 'e', 'l', 'A', 'n'),\n",
       " ('A', 'd', 'e', 'l', 'l', 'S'),\n",
       " ('A', 'd', 'e', 'l', 'l', 't'),\n",
       " ('A', 'd', 'e', 'l', 'l', 'e'),\n",
       " ('A', 'd', 'e', 'l', 'l', 'v'),\n",
       " ('A', 'd', 'e', 'l', 'l', 'e'),\n",
       " ('A', 'd', 'e', 'l', 'l', 'n'),\n",
       " ('A', 'd', 'e', 'l', 'b', 'S'),\n",
       " ('A', 'd', 'e', 'l', 'b', 't'),\n",
       " ('A', 'd', 'e', 'l', 'b', 'e'),\n",
       " ('A', 'd', 'e', 'l', 'b', 'v'),\n",
       " ('A', 'd', 'e', 'l', 'b', 'e'),\n",
       " ('A', 'd', 'e', 'l', 'b', 'n'),\n",
       " ('A', 'd', 'e', 'l', 'e', 'S'),\n",
       " ('A', 'd', 'e', 'l', 'e', 't'),\n",
       " ('A', 'd', 'e', 'l', 'e', 'e'),\n",
       " ('A', 'd', 'e', 'l', 'e', 'v'),\n",
       " ('A', 'd', 'e', 'l', 'e', 'e'),\n",
       " ('A', 'd', 'e', 'l', 'e', 'n'),\n",
       " ('A', 'd', 'e', 'l', 'r', 'S'),\n",
       " ('A', 'd', 'e', 'l', 'r', 't'),\n",
       " ('A', 'd', 'e', 'l', 'r', 'e'),\n",
       " ('A', 'd', 'e', 'l', 'r', 'v'),\n",
       " ('A', 'd', 'e', 'l', 'r', 'e'),\n",
       " ('A', 'd', 'e', 'l', 'r', 'n'),\n",
       " ('A', 'd', 'e', 'l', 't', 'S'),\n",
       " ('A', 'd', 'e', 'l', 't', 't'),\n",
       " ('A', 'd', 'e', 'l', 't', 'e'),\n",
       " ('A', 'd', 'e', 'l', 't', 'v'),\n",
       " ('A', 'd', 'e', 'l', 't', 'e'),\n",
       " ('A', 'd', 'e', 'l', 't', 'n'),\n",
       " ('A', 'd', 's', 'W', 'A', 'S'),\n",
       " ('A', 'd', 's', 'W', 'A', 't'),\n",
       " ('A', 'd', 's', 'W', 'A', 'e'),\n",
       " ('A', 'd', 's', 'W', 'A', 'v'),\n",
       " ('A', 'd', 's', 'W', 'A', 'e'),\n",
       " ('A', 'd', 's', 'W', 'A', 'n'),\n",
       " ('A', 'd', 's', 'W', 'l', 'S'),\n",
       " ('A', 'd', 's', 'W', 'l', 't'),\n",
       " ('A', 'd', 's', 'W', 'l', 'e'),\n",
       " ('A', 'd', 's', 'W', 'l', 'v'),\n",
       " ('A', 'd', 's', 'W', 'l', 'e'),\n",
       " ('A', 'd', 's', 'W', 'l', 'n'),\n",
       " ('A', 'd', 's', 'W', 'b', 'S'),\n",
       " ('A', 'd', 's', 'W', 'b', 't'),\n",
       " ('A', 'd', 's', 'W', 'b', 'e'),\n",
       " ('A', 'd', 's', 'W', 'b', 'v'),\n",
       " ('A', 'd', 's', 'W', 'b', 'e'),\n",
       " ('A', 'd', 's', 'W', 'b', 'n'),\n",
       " ('A', 'd', 's', 'W', 'e', 'S'),\n",
       " ('A', 'd', 's', 'W', 'e', 't'),\n",
       " ('A', 'd', 's', 'W', 'e', 'e'),\n",
       " ('A', 'd', 's', 'W', 'e', 'v'),\n",
       " ('A', 'd', 's', 'W', 'e', 'e'),\n",
       " ('A', 'd', 's', 'W', 'e', 'n'),\n",
       " ('A', 'd', 's', 'W', 'r', 'S'),\n",
       " ('A', 'd', 's', 'W', 'r', 't'),\n",
       " ('A', 'd', 's', 'W', 'r', 'e'),\n",
       " ('A', 'd', 's', 'W', 'r', 'v'),\n",
       " ('A', 'd', 's', 'W', 'r', 'e'),\n",
       " ('A', 'd', 's', 'W', 'r', 'n'),\n",
       " ('A', 'd', 's', 'W', 't', 'S'),\n",
       " ('A', 'd', 's', 'W', 't', 't'),\n",
       " ('A', 'd', 's', 'W', 't', 'e'),\n",
       " ('A', 'd', 's', 'W', 't', 'v'),\n",
       " ('A', 'd', 's', 'W', 't', 'e'),\n",
       " ('A', 'd', 's', 'W', 't', 'n'),\n",
       " ('A', 'd', 's', 'i', 'A', 'S'),\n",
       " ('A', 'd', 's', 'i', 'A', 't'),\n",
       " ('A', 'd', 's', 'i', 'A', 'e'),\n",
       " ('A', 'd', 's', 'i', 'A', 'v'),\n",
       " ('A', 'd', 's', 'i', 'A', 'e'),\n",
       " ('A', 'd', 's', 'i', 'A', 'n'),\n",
       " ('A', 'd', 's', 'i', 'l', 'S'),\n",
       " ('A', 'd', 's', 'i', 'l', 't'),\n",
       " ('A', 'd', 's', 'i', 'l', 'e'),\n",
       " ('A', 'd', 's', 'i', 'l', 'v'),\n",
       " ('A', 'd', 's', 'i', 'l', 'e'),\n",
       " ('A', 'd', 's', 'i', 'l', 'n'),\n",
       " ('A', 'd', 's', 'i', 'b', 'S'),\n",
       " ('A', 'd', 's', 'i', 'b', 't'),\n",
       " ('A', 'd', 's', 'i', 'b', 'e'),\n",
       " ('A', 'd', 's', 'i', 'b', 'v'),\n",
       " ('A', 'd', 's', 'i', 'b', 'e'),\n",
       " ('A', 'd', 's', 'i', 'b', 'n'),\n",
       " ('A', 'd', 's', 'i', 'e', 'S'),\n",
       " ('A', 'd', 's', 'i', 'e', 't'),\n",
       " ('A', 'd', 's', 'i', 'e', 'e'),\n",
       " ('A', 'd', 's', 'i', 'e', 'v'),\n",
       " ('A', 'd', 's', 'i', 'e', 'e'),\n",
       " ('A', 'd', 's', 'i', 'e', 'n'),\n",
       " ('A', 'd', 's', 'i', 'r', 'S'),\n",
       " ('A', 'd', 's', 'i', 'r', 't'),\n",
       " ('A', 'd', 's', 'i', 'r', 'e'),\n",
       " ('A', 'd', 's', 'i', 'r', 'v'),\n",
       " ('A', 'd', 's', 'i', 'r', 'e'),\n",
       " ('A', 'd', 's', 'i', 'r', 'n'),\n",
       " ('A', 'd', 's', 'i', 't', 'S'),\n",
       " ('A', 'd', 's', 'i', 't', 't'),\n",
       " ('A', 'd', 's', 'i', 't', 'e'),\n",
       " ('A', 'd', 's', 'i', 't', 'v'),\n",
       " ('A', 'd', 's', 'i', 't', 'e'),\n",
       " ('A', 'd', 's', 'i', 't', 'n'),\n",
       " ('A', 'd', 's', 'l', 'A', 'S'),\n",
       " ('A', 'd', 's', 'l', 'A', 't'),\n",
       " ('A', 'd', 's', 'l', 'A', 'e'),\n",
       " ('A', 'd', 's', 'l', 'A', 'v'),\n",
       " ('A', 'd', 's', 'l', 'A', 'e'),\n",
       " ('A', 'd', 's', 'l', 'A', 'n'),\n",
       " ('A', 'd', 's', 'l', 'l', 'S'),\n",
       " ('A', 'd', 's', 'l', 'l', 't'),\n",
       " ('A', 'd', 's', 'l', 'l', 'e'),\n",
       " ('A', 'd', 's', 'l', 'l', 'v'),\n",
       " ('A', 'd', 's', 'l', 'l', 'e'),\n",
       " ('A', 'd', 's', 'l', 'l', 'n'),\n",
       " ('A', 'd', 's', 'l', 'b', 'S'),\n",
       " ('A', 'd', 's', 'l', 'b', 't'),\n",
       " ('A', 'd', 's', 'l', 'b', 'e'),\n",
       " ('A', 'd', 's', 'l', 'b', 'v'),\n",
       " ('A', 'd', 's', 'l', 'b', 'e'),\n",
       " ('A', 'd', 's', 'l', 'b', 'n'),\n",
       " ('A', 'd', 's', 'l', 'e', 'S'),\n",
       " ('A', 'd', 's', 'l', 'e', 't'),\n",
       " ('A', 'd', 's', 'l', 'e', 'e'),\n",
       " ('A', 'd', 's', 'l', 'e', 'v'),\n",
       " ('A', 'd', 's', 'l', 'e', 'e'),\n",
       " ('A', 'd', 's', 'l', 'e', 'n'),\n",
       " ('A', 'd', 's', 'l', 'r', 'S'),\n",
       " ('A', 'd', 's', 'l', 'r', 't'),\n",
       " ('A', 'd', 's', 'l', 'r', 'e'),\n",
       " ('A', 'd', 's', 'l', 'r', 'v'),\n",
       " ('A', 'd', 's', 'l', 'r', 'e'),\n",
       " ('A', 'd', 's', 'l', 'r', 'n'),\n",
       " ('A', 'd', 's', 'l', 't', 'S'),\n",
       " ('A', 'd', 's', 'l', 't', 't'),\n",
       " ('A', 'd', 's', 'l', 't', 'e'),\n",
       " ('A', 'd', 's', 'l', 't', 'v'),\n",
       " ('A', 'd', 's', 'l', 't', 'e'),\n",
       " ('A', 'd', 's', 'l', 't', 'n'),\n",
       " ('A', 'd', 's', 'l', 'A', 'S'),\n",
       " ('A', 'd', 's', 'l', 'A', 't'),\n",
       " ('A', 'd', 's', 'l', 'A', 'e'),\n",
       " ('A', 'd', 's', 'l', 'A', 'v'),\n",
       " ('A', 'd', 's', 'l', 'A', 'e'),\n",
       " ('A', 'd', 's', 'l', 'A', 'n'),\n",
       " ('A', 'd', 's', 'l', 'l', 'S'),\n",
       " ('A', 'd', 's', 'l', 'l', 't'),\n",
       " ('A', 'd', 's', 'l', 'l', 'e'),\n",
       " ('A', 'd', 's', 'l', 'l', 'v'),\n",
       " ('A', 'd', 's', 'l', 'l', 'e'),\n",
       " ('A', 'd', 's', 'l', 'l', 'n'),\n",
       " ('A', 'd', 's', 'l', 'b', 'S'),\n",
       " ('A', 'd', 's', 'l', 'b', 't'),\n",
       " ('A', 'd', 's', 'l', 'b', 'e'),\n",
       " ('A', 'd', 's', 'l', 'b', 'v'),\n",
       " ('A', 'd', 's', 'l', 'b', 'e'),\n",
       " ('A', 'd', 's', 'l', 'b', 'n'),\n",
       " ('A', 'd', 's', 'l', 'e', 'S'),\n",
       " ('A', 'd', 's', 'l', 'e', 't'),\n",
       " ('A', 'd', 's', 'l', 'e', 'e'),\n",
       " ('A', 'd', 's', 'l', 'e', 'v'),\n",
       " ('A', 'd', 's', 'l', 'e', 'e'),\n",
       " ('A', 'd', 's', 'l', 'e', 'n'),\n",
       " ('A', 'd', 's', 'l', 'r', 'S'),\n",
       " ('A', 'd', 's', 'l', 'r', 't'),\n",
       " ('A', 'd', 's', 'l', 'r', 'e'),\n",
       " ('A', 'd', 's', 'l', 'r', 'v'),\n",
       " ('A', 'd', 's', 'l', 'r', 'e'),\n",
       " ('A', 'd', 's', 'l', 'r', 'n'),\n",
       " ('A', 'd', 's', 'l', 't', 'S'),\n",
       " ('A', 'd', 's', 'l', 't', 't'),\n",
       " ('A', 'd', 's', 'l', 't', 'e'),\n",
       " ('A', 'd', 's', 'l', 't', 'v'),\n",
       " ('A', 'd', 's', 'l', 't', 'e'),\n",
       " ('A', 'd', 's', 'l', 't', 'n'),\n",
       " ('A', 'a', 'W', 'W', 'A', 'S'),\n",
       " ('A', 'a', 'W', 'W', 'A', 't'),\n",
       " ('A', 'a', 'W', 'W', 'A', 'e'),\n",
       " ('A', 'a', 'W', 'W', 'A', 'v'),\n",
       " ('A', 'a', 'W', 'W', 'A', 'e'),\n",
       " ('A', 'a', 'W', 'W', 'A', 'n'),\n",
       " ('A', 'a', 'W', 'W', 'l', 'S'),\n",
       " ('A', 'a', 'W', 'W', 'l', 't'),\n",
       " ('A', 'a', 'W', 'W', 'l', 'e'),\n",
       " ('A', 'a', 'W', 'W', 'l', 'v'),\n",
       " ('A', 'a', 'W', 'W', 'l', 'e'),\n",
       " ('A', 'a', 'W', 'W', 'l', 'n'),\n",
       " ('A', 'a', 'W', 'W', 'b', 'S'),\n",
       " ('A', 'a', 'W', 'W', 'b', 't'),\n",
       " ('A', 'a', 'W', 'W', 'b', 'e'),\n",
       " ('A', 'a', 'W', 'W', 'b', 'v'),\n",
       " ('A', 'a', 'W', 'W', 'b', 'e'),\n",
       " ('A', 'a', 'W', 'W', 'b', 'n'),\n",
       " ('A', 'a', 'W', 'W', 'e', 'S'),\n",
       " ('A', 'a', 'W', 'W', 'e', 't'),\n",
       " ('A', 'a', 'W', 'W', 'e', 'e'),\n",
       " ('A', 'a', 'W', 'W', 'e', 'v'),\n",
       " ('A', 'a', 'W', 'W', 'e', 'e'),\n",
       " ('A', 'a', 'W', 'W', 'e', 'n'),\n",
       " ('A', 'a', 'W', 'W', 'r', 'S'),\n",
       " ('A', 'a', 'W', 'W', 'r', 't'),\n",
       " ('A', 'a', 'W', 'W', 'r', 'e'),\n",
       " ('A', 'a', 'W', 'W', 'r', 'v'),\n",
       " ('A', 'a', 'W', 'W', 'r', 'e'),\n",
       " ('A', 'a', 'W', 'W', 'r', 'n'),\n",
       " ('A', 'a', 'W', 'W', 't', 'S'),\n",
       " ('A', 'a', 'W', 'W', 't', 't'),\n",
       " ('A', 'a', 'W', 'W', 't', 'e'),\n",
       " ('A', 'a', 'W', 'W', 't', 'v'),\n",
       " ('A', 'a', 'W', 'W', 't', 'e'),\n",
       " ('A', 'a', 'W', 'W', 't', 'n'),\n",
       " ('A', 'a', 'W', 'i', 'A', 'S'),\n",
       " ('A', 'a', 'W', 'i', 'A', 't'),\n",
       " ('A', 'a', 'W', 'i', 'A', 'e'),\n",
       " ('A', 'a', 'W', 'i', 'A', 'v'),\n",
       " ('A', 'a', 'W', 'i', 'A', 'e'),\n",
       " ('A', 'a', 'W', 'i', 'A', 'n'),\n",
       " ('A', 'a', 'W', 'i', 'l', 'S'),\n",
       " ('A', 'a', 'W', 'i', 'l', 't'),\n",
       " ('A', 'a', 'W', 'i', 'l', 'e'),\n",
       " ('A', 'a', 'W', 'i', 'l', 'v'),\n",
       " ('A', 'a', 'W', 'i', 'l', 'e'),\n",
       " ('A', 'a', 'W', 'i', 'l', 'n'),\n",
       " ('A', 'a', 'W', 'i', 'b', 'S'),\n",
       " ('A', 'a', 'W', 'i', 'b', 't'),\n",
       " ('A', 'a', 'W', 'i', 'b', 'e'),\n",
       " ('A', 'a', 'W', 'i', 'b', 'v'),\n",
       " ('A', 'a', 'W', 'i', 'b', 'e'),\n",
       " ('A', 'a', 'W', 'i', 'b', 'n'),\n",
       " ('A', 'a', 'W', 'i', 'e', 'S'),\n",
       " ('A', 'a', 'W', 'i', 'e', 't'),\n",
       " ('A', 'a', 'W', 'i', 'e', 'e'),\n",
       " ('A', 'a', 'W', 'i', 'e', 'v'),\n",
       " ('A', 'a', 'W', 'i', 'e', 'e'),\n",
       " ('A', 'a', 'W', 'i', 'e', 'n'),\n",
       " ('A', 'a', 'W', 'i', 'r', 'S'),\n",
       " ('A', 'a', 'W', 'i', 'r', 't'),\n",
       " ('A', 'a', 'W', 'i', 'r', 'e'),\n",
       " ('A', 'a', 'W', 'i', 'r', 'v'),\n",
       " ('A', 'a', 'W', 'i', 'r', 'e'),\n",
       " ('A', 'a', 'W', 'i', 'r', 'n'),\n",
       " ('A', 'a', 'W', 'i', 't', 'S'),\n",
       " ('A', 'a', 'W', 'i', 't', 't'),\n",
       " ('A', 'a', 'W', 'i', 't', 'e'),\n",
       " ('A', 'a', 'W', 'i', 't', 'v'),\n",
       " ('A', 'a', 'W', 'i', 't', 'e'),\n",
       " ('A', 'a', 'W', 'i', 't', 'n'),\n",
       " ('A', 'a', 'W', 'l', 'A', 'S'),\n",
       " ('A', 'a', 'W', 'l', 'A', 't'),\n",
       " ('A', 'a', 'W', 'l', 'A', 'e'),\n",
       " ('A', 'a', 'W', 'l', 'A', 'v'),\n",
       " ('A', 'a', 'W', 'l', 'A', 'e'),\n",
       " ('A', 'a', 'W', 'l', 'A', 'n'),\n",
       " ('A', 'a', 'W', 'l', 'l', 'S'),\n",
       " ('A', 'a', 'W', 'l', 'l', 't'),\n",
       " ('A', 'a', 'W', 'l', 'l', 'e'),\n",
       " ('A', 'a', 'W', 'l', 'l', 'v'),\n",
       " ('A', 'a', 'W', 'l', 'l', 'e'),\n",
       " ('A', 'a', 'W', 'l', 'l', 'n'),\n",
       " ('A', 'a', 'W', 'l', 'b', 'S'),\n",
       " ('A', 'a', 'W', 'l', 'b', 't'),\n",
       " ('A', 'a', 'W', 'l', 'b', 'e'),\n",
       " ('A', 'a', 'W', 'l', 'b', 'v'),\n",
       " ('A', 'a', 'W', 'l', 'b', 'e'),\n",
       " ('A', 'a', 'W', 'l', 'b', 'n'),\n",
       " ('A', 'a', 'W', 'l', 'e', 'S'),\n",
       " ('A', 'a', 'W', 'l', 'e', 't'),\n",
       " ('A', 'a', 'W', 'l', 'e', 'e'),\n",
       " ('A', 'a', 'W', 'l', 'e', 'v'),\n",
       " ('A', 'a', 'W', 'l', 'e', 'e'),\n",
       " ('A', 'a', 'W', 'l', 'e', 'n'),\n",
       " ('A', 'a', 'W', 'l', 'r', 'S'),\n",
       " ('A', 'a', 'W', 'l', 'r', 't'),\n",
       " ('A', 'a', 'W', 'l', 'r', 'e'),\n",
       " ('A', 'a', 'W', 'l', 'r', 'v'),\n",
       " ('A', 'a', 'W', 'l', 'r', 'e'),\n",
       " ('A', 'a', 'W', 'l', 'r', 'n'),\n",
       " ('A', 'a', 'W', 'l', 't', 'S'),\n",
       " ('A', 'a', 'W', 'l', 't', 't'),\n",
       " ('A', 'a', 'W', 'l', 't', 'e'),\n",
       " ('A', 'a', 'W', 'l', 't', 'v'),\n",
       " ('A', 'a', 'W', 'l', 't', 'e'),\n",
       " ('A', 'a', 'W', 'l', 't', 'n'),\n",
       " ('A', 'a', 'W', 'l', 'A', 'S'),\n",
       " ('A', 'a', 'W', 'l', 'A', 't'),\n",
       " ('A', 'a', 'W', 'l', 'A', 'e'),\n",
       " ('A', 'a', 'W', 'l', 'A', 'v'),\n",
       " ('A', 'a', 'W', 'l', 'A', 'e'),\n",
       " ('A', 'a', 'W', 'l', 'A', 'n'),\n",
       " ('A', 'a', 'W', 'l', 'l', 'S'),\n",
       " ('A', 'a', 'W', 'l', 'l', 't'),\n",
       " ('A', 'a', 'W', 'l', 'l', 'e'),\n",
       " ('A', 'a', 'W', 'l', 'l', 'v'),\n",
       " ('A', 'a', 'W', 'l', 'l', 'e'),\n",
       " ('A', 'a', 'W', 'l', 'l', 'n'),\n",
       " ('A', 'a', 'W', 'l', 'b', 'S'),\n",
       " ('A', 'a', 'W', 'l', 'b', 't'),\n",
       " ('A', 'a', 'W', 'l', 'b', 'e'),\n",
       " ('A', 'a', 'W', 'l', 'b', 'v'),\n",
       " ('A', 'a', 'W', 'l', 'b', 'e'),\n",
       " ('A', 'a', 'W', 'l', 'b', 'n'),\n",
       " ('A', 'a', 'W', 'l', 'e', 'S'),\n",
       " ('A', 'a', 'W', 'l', 'e', 't'),\n",
       " ('A', 'a', 'W', 'l', 'e', 'e'),\n",
       " ('A', 'a', 'W', 'l', 'e', 'v'),\n",
       " ('A', 'a', 'W', 'l', 'e', 'e'),\n",
       " ('A', 'a', 'W', 'l', 'e', 'n'),\n",
       " ('A', 'a', 'W', 'l', 'r', 'S'),\n",
       " ('A', 'a', 'W', 'l', 'r', 't'),\n",
       " ('A', 'a', 'W', 'l', 'r', 'e'),\n",
       " ('A', 'a', 'W', 'l', 'r', 'v'),\n",
       " ...]"
      ]
     },
     "execution_count": 149,
     "metadata": {},
     "output_type": "execute_result"
    }
   ],
   "source": [
    "list(itertools.product(*names))"
   ]
  },
  {
   "cell_type": "code",
   "execution_count": 151,
   "metadata": {},
   "outputs": [],
   "source": [
    "path = 'ipython_script_test.py'\n",
    "lines = [x.rstrip() for x in open(path, 'r')]"
   ]
  },
  {
   "cell_type": "code",
   "execution_count": 152,
   "metadata": {},
   "outputs": [
    {
     "data": {
      "text/plain": [
       "['def f(x, y, z):',\n",
       " '    return (x + y) / z',\n",
       " '',\n",
       " '',\n",
       " 'a = 5',\n",
       " 'b = 6',\n",
       " 'c = 7.5',\n",
       " 'result = f(a, b, c)']"
      ]
     },
     "execution_count": 152,
     "metadata": {},
     "output_type": "execute_result"
    }
   ],
   "source": [
    "lines"
   ]
  }
 ],
 "metadata": {
  "kernelspec": {
   "display_name": "Python 3",
   "language": "python",
   "name": "python3"
  },
  "language_info": {
   "codemirror_mode": {
    "name": "ipython",
    "version": 3
   },
   "file_extension": ".py",
   "mimetype": "text/x-python",
   "name": "python",
   "nbconvert_exporter": "python",
   "pygments_lexer": "ipython3",
   "version": "3.7.0"
  }
 },
 "nbformat": 4,
 "nbformat_minor": 2
}
